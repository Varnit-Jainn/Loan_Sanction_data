{
 "cells": [
  {
   "cell_type": "code",
   "execution_count": 1,
   "id": "31478407",
   "metadata": {
    "scrolled": true
   },
   "outputs": [],
   "source": [
    "import pandas as pd\n",
    "import numpy as np"
   ]
  },
  {
   "cell_type": "code",
   "execution_count": 2,
   "id": "c26f4a22",
   "metadata": {},
   "outputs": [],
   "source": [
    "df=pd.read_csv(\"modified_loan.csv\")"
   ]
  },
  {
   "cell_type": "code",
   "execution_count": 3,
   "id": "b870e658",
   "metadata": {},
   "outputs": [
    {
     "data": {
      "text/html": [
       "<div>\n",
       "<style scoped>\n",
       "    .dataframe tbody tr th:only-of-type {\n",
       "        vertical-align: middle;\n",
       "    }\n",
       "\n",
       "    .dataframe tbody tr th {\n",
       "        vertical-align: top;\n",
       "    }\n",
       "\n",
       "    .dataframe thead th {\n",
       "        text-align: right;\n",
       "    }\n",
       "</style>\n",
       "<table border=\"1\" class=\"dataframe\">\n",
       "  <thead>\n",
       "    <tr style=\"text-align: right;\">\n",
       "      <th></th>\n",
       "      <th>Loan_ID</th>\n",
       "      <th>Gender</th>\n",
       "      <th>Married</th>\n",
       "      <th>Dependents</th>\n",
       "      <th>Education</th>\n",
       "      <th>Self_Employed</th>\n",
       "      <th>Applicant_Income</th>\n",
       "      <th>Coapplicant_Income</th>\n",
       "      <th>LoanAmount</th>\n",
       "      <th>Loan_Amount_Term</th>\n",
       "      <th>Credit_History</th>\n",
       "      <th>Property_Area</th>\n",
       "    </tr>\n",
       "  </thead>\n",
       "  <tbody>\n",
       "    <tr>\n",
       "      <th>0</th>\n",
       "      <td>LP001015</td>\n",
       "      <td>Male</td>\n",
       "      <td>Yes</td>\n",
       "      <td>0</td>\n",
       "      <td>Graduate</td>\n",
       "      <td>No</td>\n",
       "      <td>5720</td>\n",
       "      <td>0</td>\n",
       "      <td>110.0</td>\n",
       "      <td>360</td>\n",
       "      <td>1</td>\n",
       "      <td>Urban</td>\n",
       "    </tr>\n",
       "    <tr>\n",
       "      <th>1</th>\n",
       "      <td>LP001022</td>\n",
       "      <td>Male</td>\n",
       "      <td>Yes</td>\n",
       "      <td>1</td>\n",
       "      <td>Graduate</td>\n",
       "      <td>No</td>\n",
       "      <td>3076</td>\n",
       "      <td>1500</td>\n",
       "      <td>126.0</td>\n",
       "      <td>360</td>\n",
       "      <td>1</td>\n",
       "      <td>Urban</td>\n",
       "    </tr>\n",
       "    <tr>\n",
       "      <th>2</th>\n",
       "      <td>LP001031</td>\n",
       "      <td>Male</td>\n",
       "      <td>Yes</td>\n",
       "      <td>2</td>\n",
       "      <td>Graduate</td>\n",
       "      <td>No</td>\n",
       "      <td>5000</td>\n",
       "      <td>1800</td>\n",
       "      <td>208.0</td>\n",
       "      <td>360</td>\n",
       "      <td>1</td>\n",
       "      <td>Urban</td>\n",
       "    </tr>\n",
       "    <tr>\n",
       "      <th>3</th>\n",
       "      <td>LP001035</td>\n",
       "      <td>Male</td>\n",
       "      <td></td>\n",
       "      <td>2</td>\n",
       "      <td>Graduate</td>\n",
       "      <td>No</td>\n",
       "      <td>2340</td>\n",
       "      <td>2546</td>\n",
       "      <td>100.0</td>\n",
       "      <td>360</td>\n",
       "      <td>1</td>\n",
       "      <td>Urban</td>\n",
       "    </tr>\n",
       "    <tr>\n",
       "      <th>4</th>\n",
       "      <td>LP001051</td>\n",
       "      <td>Male</td>\n",
       "      <td>No</td>\n",
       "      <td>0</td>\n",
       "      <td>Not Graduate</td>\n",
       "      <td>No</td>\n",
       "      <td>3276</td>\n",
       "      <td>0</td>\n",
       "      <td>78.0</td>\n",
       "      <td>360</td>\n",
       "      <td>1</td>\n",
       "      <td>Urban</td>\n",
       "    </tr>\n",
       "    <tr>\n",
       "      <th>...</th>\n",
       "      <td>...</td>\n",
       "      <td>...</td>\n",
       "      <td>...</td>\n",
       "      <td>...</td>\n",
       "      <td>...</td>\n",
       "      <td>...</td>\n",
       "      <td>...</td>\n",
       "      <td>...</td>\n",
       "      <td>...</td>\n",
       "      <td>...</td>\n",
       "      <td>...</td>\n",
       "      <td>...</td>\n",
       "    </tr>\n",
       "    <tr>\n",
       "      <th>362</th>\n",
       "      <td>LP002971</td>\n",
       "      <td>Male</td>\n",
       "      <td>Yes</td>\n",
       "      <td>3+</td>\n",
       "      <td>Not Graduate</td>\n",
       "      <td>Yes</td>\n",
       "      <td>4009</td>\n",
       "      <td>1777</td>\n",
       "      <td>113.0</td>\n",
       "      <td>360</td>\n",
       "      <td>1</td>\n",
       "      <td>Urban</td>\n",
       "    </tr>\n",
       "    <tr>\n",
       "      <th>363</th>\n",
       "      <td>LP002975</td>\n",
       "      <td>Male</td>\n",
       "      <td>Yes</td>\n",
       "      <td>0</td>\n",
       "      <td>Graduate</td>\n",
       "      <td>No</td>\n",
       "      <td>4158</td>\n",
       "      <td>709</td>\n",
       "      <td>115.0</td>\n",
       "      <td>360</td>\n",
       "      <td>1</td>\n",
       "      <td>Urban</td>\n",
       "    </tr>\n",
       "    <tr>\n",
       "      <th>364</th>\n",
       "      <td>LP002980</td>\n",
       "      <td>Male</td>\n",
       "      <td>No</td>\n",
       "      <td>0</td>\n",
       "      <td>Graduate</td>\n",
       "      <td>No</td>\n",
       "      <td>3250</td>\n",
       "      <td>1993</td>\n",
       "      <td>126.0</td>\n",
       "      <td>360</td>\n",
       "      <td>1</td>\n",
       "      <td>Semiurban</td>\n",
       "    </tr>\n",
       "    <tr>\n",
       "      <th>365</th>\n",
       "      <td>LP002986</td>\n",
       "      <td>Male</td>\n",
       "      <td>Yes</td>\n",
       "      <td>0</td>\n",
       "      <td>Graduate</td>\n",
       "      <td>No</td>\n",
       "      <td>5000</td>\n",
       "      <td>2393</td>\n",
       "      <td>158.0</td>\n",
       "      <td>360</td>\n",
       "      <td>1</td>\n",
       "      <td>Rural</td>\n",
       "    </tr>\n",
       "    <tr>\n",
       "      <th>366</th>\n",
       "      <td>LP002989</td>\n",
       "      <td>Male</td>\n",
       "      <td>No</td>\n",
       "      <td>0</td>\n",
       "      <td>Graduate</td>\n",
       "      <td>Yes</td>\n",
       "      <td>9200</td>\n",
       "      <td>0</td>\n",
       "      <td>98.0</td>\n",
       "      <td>180</td>\n",
       "      <td>1</td>\n",
       "      <td>Rural</td>\n",
       "    </tr>\n",
       "  </tbody>\n",
       "</table>\n",
       "<p>367 rows × 12 columns</p>\n",
       "</div>"
      ],
      "text/plain": [
       "      Loan_ID Gender Married Dependents     Education Self_Employed  \\\n",
       "0    LP001015   Male     Yes          0      Graduate            No   \n",
       "1    LP001022   Male     Yes          1      Graduate            No   \n",
       "2    LP001031   Male     Yes          2      Graduate            No   \n",
       "3    LP001035   Male                  2      Graduate            No   \n",
       "4    LP001051   Male      No          0  Not Graduate            No   \n",
       "..        ...    ...     ...        ...           ...           ...   \n",
       "362  LP002971   Male     Yes         3+  Not Graduate           Yes   \n",
       "363  LP002975   Male     Yes          0      Graduate            No   \n",
       "364  LP002980   Male      No          0      Graduate            No   \n",
       "365  LP002986   Male     Yes          0      Graduate            No   \n",
       "366  LP002989   Male      No          0      Graduate           Yes   \n",
       "\n",
       "    Applicant_Income  Coapplicant_Income  LoanAmount  Loan_Amount_Term  \\\n",
       "0               5720                   0       110.0               360   \n",
       "1               3076                1500       126.0               360   \n",
       "2               5000                1800       208.0               360   \n",
       "3               2340                2546       100.0               360   \n",
       "4               3276                   0        78.0               360   \n",
       "..               ...                 ...         ...               ...   \n",
       "362             4009                1777       113.0               360   \n",
       "363             4158                 709       115.0               360   \n",
       "364             3250                1993       126.0               360   \n",
       "365             5000                2393       158.0               360   \n",
       "366             9200                   0        98.0               180   \n",
       "\n",
       "    Credit_History Property_Area  \n",
       "0                1         Urban  \n",
       "1                1         Urban  \n",
       "2                1         Urban  \n",
       "3                1         Urban  \n",
       "4                1         Urban  \n",
       "..             ...           ...  \n",
       "362              1         Urban  \n",
       "363              1         Urban  \n",
       "364              1     Semiurban  \n",
       "365              1         Rural  \n",
       "366              1         Rural  \n",
       "\n",
       "[367 rows x 12 columns]"
      ]
     },
     "execution_count": 3,
     "metadata": {},
     "output_type": "execute_result"
    }
   ],
   "source": [
    "df"
   ]
  },
  {
   "cell_type": "code",
   "execution_count": 4,
   "id": "e64c53e8",
   "metadata": {
    "scrolled": true
   },
   "outputs": [
    {
     "data": {
      "text/plain": [
       "Loan_ID               367\n",
       "Gender                364\n",
       "Married               367\n",
       "Dependents            356\n",
       "Education             367\n",
       "Self_Employed         367\n",
       "Applicant_Income      367\n",
       "Coapplicant_Income    367\n",
       "LoanAmount            365\n",
       "Loan_Amount_Term      367\n",
       "Credit_History        367\n",
       "Property_Area         367\n",
       "dtype: int64"
      ]
     },
     "execution_count": 4,
     "metadata": {},
     "output_type": "execute_result"
    }
   ],
   "source": [
    "df.count()"
   ]
  },
  {
   "cell_type": "code",
   "execution_count": 5,
   "id": "74c93bd8",
   "metadata": {},
   "outputs": [],
   "source": [
    "# Check how many duplicate rows are present"
   ]
  },
  {
   "cell_type": "code",
   "execution_count": 6,
   "id": "f8edfc05",
   "metadata": {},
   "outputs": [
    {
     "data": {
      "text/plain": [
       "0"
      ]
     },
     "execution_count": 6,
     "metadata": {},
     "output_type": "execute_result"
    }
   ],
   "source": [
    "df[df.duplicated()].count()[\"Loan_ID\"]"
   ]
  },
  {
   "cell_type": "code",
   "execution_count": 7,
   "id": "60e5de39",
   "metadata": {},
   "outputs": [],
   "source": [
    "#2. If any Duplicates Present, drop those duplicates"
   ]
  },
  {
   "cell_type": "code",
   "execution_count": 8,
   "id": "fcfe36d5",
   "metadata": {
    "scrolled": true
   },
   "outputs": [],
   "source": [
    "df=df.drop_duplicates()"
   ]
  },
  {
   "cell_type": "code",
   "execution_count": 9,
   "id": "70ae7d1d",
   "metadata": {
    "scrolled": true
   },
   "outputs": [
    {
     "data": {
      "text/plain": [
       "Loan_ID               367\n",
       "Gender                364\n",
       "Married               367\n",
       "Dependents            356\n",
       "Education             367\n",
       "Self_Employed         367\n",
       "Applicant_Income      367\n",
       "Coapplicant_Income    367\n",
       "LoanAmount            365\n",
       "Loan_Amount_Term      367\n",
       "Credit_History        367\n",
       "Property_Area         367\n",
       "dtype: int64"
      ]
     },
     "execution_count": 9,
     "metadata": {},
     "output_type": "execute_result"
    }
   ],
   "source": [
    "df.count()"
   ]
  },
  {
   "cell_type": "code",
   "execution_count": 10,
   "id": "50757328",
   "metadata": {},
   "outputs": [],
   "source": [
    "#3. Check null values in each column"
   ]
  },
  {
   "cell_type": "code",
   "execution_count": 11,
   "id": "2ae07c10",
   "metadata": {
    "scrolled": true
   },
   "outputs": [
    {
     "data": {
      "text/plain": [
       "Loan_ID                0\n",
       "Gender                 3\n",
       "Married                0\n",
       "Dependents            11\n",
       "Education              0\n",
       "Self_Employed          0\n",
       "Applicant_Income       0\n",
       "Coapplicant_Income     0\n",
       "LoanAmount             2\n",
       "Loan_Amount_Term       0\n",
       "Credit_History         0\n",
       "Property_Area          0\n",
       "dtype: int64"
      ]
     },
     "execution_count": 11,
     "metadata": {},
     "output_type": "execute_result"
    }
   ],
   "source": [
    "df.isnull().sum()"
   ]
  },
  {
   "cell_type": "code",
   "execution_count": 12,
   "id": "32f70b06",
   "metadata": {},
   "outputs": [],
   "source": [
    "#4. Delete the Rows which are having null values."
   ]
  },
  {
   "cell_type": "code",
   "execution_count": 13,
   "id": "ea276c26",
   "metadata": {},
   "outputs": [],
   "source": [
    "#df = df.dropna() can be used but there are no complete rows having null values"
   ]
  },
  {
   "cell_type": "code",
   "execution_count": 14,
   "id": "e9f441be",
   "metadata": {},
   "outputs": [],
   "source": [
    "#5. Impute null values with Mode in Gender Column"
   ]
  },
  {
   "cell_type": "code",
   "execution_count": 15,
   "id": "f2b30275",
   "metadata": {},
   "outputs": [
    {
     "data": {
      "text/plain": [
       "Gender\n",
       "Male      294\n",
       "Female     70\n",
       "Name: count, dtype: int64"
      ]
     },
     "execution_count": 15,
     "metadata": {},
     "output_type": "execute_result"
    }
   ],
   "source": [
    "df[\"Gender\"].value_counts()"
   ]
  },
  {
   "cell_type": "code",
   "execution_count": 16,
   "id": "1a394633",
   "metadata": {},
   "outputs": [],
   "source": [
    "df.replace(\"?\",None,inplace=True)"
   ]
  },
  {
   "cell_type": "code",
   "execution_count": 17,
   "id": "e503d32e",
   "metadata": {},
   "outputs": [
    {
     "data": {
      "text/plain": [
       "Gender\n",
       "Male      294\n",
       "Female     70\n",
       "Name: count, dtype: int64"
      ]
     },
     "execution_count": 17,
     "metadata": {},
     "output_type": "execute_result"
    }
   ],
   "source": [
    "df[\"Gender\"].value_counts()"
   ]
  },
  {
   "cell_type": "code",
   "execution_count": 18,
   "id": "b7303364",
   "metadata": {
    "scrolled": true
   },
   "outputs": [
    {
     "data": {
      "text/plain": [
       "3"
      ]
     },
     "execution_count": 18,
     "metadata": {},
     "output_type": "execute_result"
    }
   ],
   "source": [
    "df[\"Gender\"].isnull().sum()"
   ]
  },
  {
   "cell_type": "code",
   "execution_count": 19,
   "id": "fe7fc0b9",
   "metadata": {},
   "outputs": [],
   "source": [
    "df[\"Gender\"].fillna(df[\"Gender\"].mode()[0],inplace = True)"
   ]
  },
  {
   "cell_type": "code",
   "execution_count": 20,
   "id": "00de856f",
   "metadata": {},
   "outputs": [
    {
     "data": {
      "text/plain": [
       "0"
      ]
     },
     "execution_count": 20,
     "metadata": {},
     "output_type": "execute_result"
    }
   ],
   "source": [
    "df[\"Gender\"].isnull().sum()"
   ]
  },
  {
   "cell_type": "code",
   "execution_count": 21,
   "id": "ec6b3cc4",
   "metadata": {},
   "outputs": [],
   "source": [
    "#6. Impute null values with Mode in Self_Employed Column"
   ]
  },
  {
   "cell_type": "code",
   "execution_count": 22,
   "id": "48098016",
   "metadata": {},
   "outputs": [
    {
     "data": {
      "text/plain": [
       "0"
      ]
     },
     "execution_count": 22,
     "metadata": {},
     "output_type": "execute_result"
    }
   ],
   "source": [
    "df[\"Self_Employed\"].isnull().sum()"
   ]
  },
  {
   "cell_type": "code",
   "execution_count": 23,
   "id": "ca859867",
   "metadata": {},
   "outputs": [
    {
     "data": {
      "text/plain": [
       "Self_Employed\n",
       "No     333\n",
       "Yes     34\n",
       "Name: count, dtype: int64"
      ]
     },
     "execution_count": 23,
     "metadata": {},
     "output_type": "execute_result"
    }
   ],
   "source": [
    "df[\"Self_Employed\"].value_counts()"
   ]
  },
  {
   "cell_type": "code",
   "execution_count": 24,
   "id": "c578d3d4",
   "metadata": {},
   "outputs": [],
   "source": [
    "df[\"Self_Employed\"].replace(\"78\",pd.NA,inplace=True)\n",
    "df[\"Self_Employed\"].replace(\"Don't know\",pd.NA,inplace=True)\n",
    "df[\"Self_Employed\"].replace(\" \",pd.NA,inplace=True)"
   ]
  },
  {
   "cell_type": "code",
   "execution_count": 25,
   "id": "59411320",
   "metadata": {},
   "outputs": [
    {
     "data": {
      "text/plain": [
       "0"
      ]
     },
     "execution_count": 25,
     "metadata": {},
     "output_type": "execute_result"
    }
   ],
   "source": [
    "df[\"Self_Employed\"].isna().sum()"
   ]
  },
  {
   "cell_type": "code",
   "execution_count": 26,
   "id": "49826585",
   "metadata": {},
   "outputs": [],
   "source": [
    "df[\"Self_Employed\"].fillna(df[\"Self_Employed\"].mode()[0],inplace = True)"
   ]
  },
  {
   "cell_type": "code",
   "execution_count": 27,
   "id": "478bbe69",
   "metadata": {},
   "outputs": [
    {
     "data": {
      "text/plain": [
       "0"
      ]
     },
     "execution_count": 27,
     "metadata": {},
     "output_type": "execute_result"
    }
   ],
   "source": [
    "df[\"Self_Employed\"].isna().sum()"
   ]
  },
  {
   "cell_type": "code",
   "execution_count": 28,
   "id": "9595784a",
   "metadata": {},
   "outputs": [],
   "source": [
    "##7. Impute null values with mean in LoanAmount Column##"
   ]
  },
  {
   "cell_type": "code",
   "execution_count": 29,
   "id": "2e12c7d6",
   "metadata": {},
   "outputs": [
    {
     "data": {
      "text/plain": [
       "2"
      ]
     },
     "execution_count": 29,
     "metadata": {},
     "output_type": "execute_result"
    }
   ],
   "source": [
    "df[\"LoanAmount\"].isna().sum()"
   ]
  },
  {
   "cell_type": "code",
   "execution_count": 30,
   "id": "3b7c19b8",
   "metadata": {},
   "outputs": [
    {
     "data": {
      "text/plain": [
       "365"
      ]
     },
     "execution_count": 30,
     "metadata": {},
     "output_type": "execute_result"
    }
   ],
   "source": [
    "df[\"LoanAmount\"].count()"
   ]
  },
  {
   "cell_type": "code",
   "execution_count": 31,
   "id": "6ffc896d",
   "metadata": {},
   "outputs": [],
   "source": [
    "df[\"LoanAmount\"].fillna(df[\"LoanAmount\"].mean(),inplace = True)"
   ]
  },
  {
   "cell_type": "code",
   "execution_count": 32,
   "id": "63a2ead5",
   "metadata": {},
   "outputs": [
    {
     "data": {
      "text/plain": [
       "0"
      ]
     },
     "execution_count": 32,
     "metadata": {},
     "output_type": "execute_result"
    }
   ],
   "source": [
    "df[\"LoanAmount\"].isna().sum()"
   ]
  },
  {
   "cell_type": "code",
   "execution_count": 33,
   "id": "8dd1b6aa",
   "metadata": {},
   "outputs": [
    {
     "data": {
      "text/plain": [
       "367"
      ]
     },
     "execution_count": 33,
     "metadata": {},
     "output_type": "execute_result"
    }
   ],
   "source": [
    "df[\"LoanAmount\"].count()"
   ]
  },
  {
   "cell_type": "code",
   "execution_count": 34,
   "id": "69589fd3",
   "metadata": {},
   "outputs": [
    {
     "data": {
      "text/html": [
       "<div>\n",
       "<style scoped>\n",
       "    .dataframe tbody tr th:only-of-type {\n",
       "        vertical-align: middle;\n",
       "    }\n",
       "\n",
       "    .dataframe tbody tr th {\n",
       "        vertical-align: top;\n",
       "    }\n",
       "\n",
       "    .dataframe thead th {\n",
       "        text-align: right;\n",
       "    }\n",
       "</style>\n",
       "<table border=\"1\" class=\"dataframe\">\n",
       "  <thead>\n",
       "    <tr style=\"text-align: right;\">\n",
       "      <th></th>\n",
       "      <th>Loan_ID</th>\n",
       "      <th>Gender</th>\n",
       "      <th>Married</th>\n",
       "      <th>Dependents</th>\n",
       "      <th>Education</th>\n",
       "      <th>Self_Employed</th>\n",
       "      <th>Applicant_Income</th>\n",
       "      <th>Coapplicant_Income</th>\n",
       "      <th>LoanAmount</th>\n",
       "      <th>Loan_Amount_Term</th>\n",
       "      <th>Credit_History</th>\n",
       "      <th>Property_Area</th>\n",
       "    </tr>\n",
       "  </thead>\n",
       "  <tbody>\n",
       "    <tr>\n",
       "      <th>154</th>\n",
       "      <td>LP001855</td>\n",
       "      <td>Male</td>\n",
       "      <td>Yes</td>\n",
       "      <td>2</td>\n",
       "      <td>Graduate</td>\n",
       "      <td>No</td>\n",
       "      <td>4855</td>\n",
       "      <td>0</td>\n",
       "      <td>-88.0</td>\n",
       "      <td>360</td>\n",
       "      <td>1</td>\n",
       "      <td>Rural</td>\n",
       "    </tr>\n",
       "  </tbody>\n",
       "</table>\n",
       "</div>"
      ],
      "text/plain": [
       "      Loan_ID Gender Married Dependents Education Self_Employed  \\\n",
       "154  LP001855   Male     Yes          2  Graduate            No   \n",
       "\n",
       "    Applicant_Income  Coapplicant_Income  LoanAmount  Loan_Amount_Term  \\\n",
       "154             4855                   0       -88.0               360   \n",
       "\n",
       "    Credit_History Property_Area  \n",
       "154              1         Rural  "
      ]
     },
     "execution_count": 34,
     "metadata": {},
     "output_type": "execute_result"
    }
   ],
   "source": [
    "df[df['LoanAmount'] < 0]"
   ]
  },
  {
   "cell_type": "code",
   "execution_count": 35,
   "id": "67464111",
   "metadata": {},
   "outputs": [],
   "source": [
    "df[\"LoanAmount\"].replace(-88,88, inplace = True)"
   ]
  },
  {
   "cell_type": "code",
   "execution_count": 36,
   "id": "0fffe9ba",
   "metadata": {},
   "outputs": [
    {
     "data": {
      "text/html": [
       "<div>\n",
       "<style scoped>\n",
       "    .dataframe tbody tr th:only-of-type {\n",
       "        vertical-align: middle;\n",
       "    }\n",
       "\n",
       "    .dataframe tbody tr th {\n",
       "        vertical-align: top;\n",
       "    }\n",
       "\n",
       "    .dataframe thead th {\n",
       "        text-align: right;\n",
       "    }\n",
       "</style>\n",
       "<table border=\"1\" class=\"dataframe\">\n",
       "  <thead>\n",
       "    <tr style=\"text-align: right;\">\n",
       "      <th></th>\n",
       "      <th>Loan_ID</th>\n",
       "      <th>Gender</th>\n",
       "      <th>Married</th>\n",
       "      <th>Dependents</th>\n",
       "      <th>Education</th>\n",
       "      <th>Self_Employed</th>\n",
       "      <th>Applicant_Income</th>\n",
       "      <th>Coapplicant_Income</th>\n",
       "      <th>LoanAmount</th>\n",
       "      <th>Loan_Amount_Term</th>\n",
       "      <th>Credit_History</th>\n",
       "      <th>Property_Area</th>\n",
       "    </tr>\n",
       "  </thead>\n",
       "  <tbody>\n",
       "  </tbody>\n",
       "</table>\n",
       "</div>"
      ],
      "text/plain": [
       "Empty DataFrame\n",
       "Columns: [Loan_ID, Gender, Married, Dependents, Education, Self_Employed, Applicant_Income, Coapplicant_Income, LoanAmount, Loan_Amount_Term, Credit_History, Property_Area]\n",
       "Index: []"
      ]
     },
     "execution_count": 36,
     "metadata": {},
     "output_type": "execute_result"
    }
   ],
   "source": [
    "df[df['LoanAmount'] < 0]"
   ]
  },
  {
   "cell_type": "code",
   "execution_count": 37,
   "id": "11e7530b",
   "metadata": {},
   "outputs": [],
   "source": [
    "#df[\"LoanAmount\"].replace(\"#\",pd.NA,inplace=True)\n",
    "\n",
    "#df[\"LoanAmount\"].replace(\" \",pd.NA,inplace=True)"
   ]
  },
  {
   "cell_type": "code",
   "execution_count": 38,
   "id": "4dabe5da",
   "metadata": {},
   "outputs": [
    {
     "data": {
      "text/plain": [
       "Loan_ID                0\n",
       "Gender                 0\n",
       "Married                0\n",
       "Dependents            11\n",
       "Education              0\n",
       "Self_Employed          0\n",
       "Applicant_Income       0\n",
       "Coapplicant_Income     0\n",
       "LoanAmount             0\n",
       "Loan_Amount_Term       0\n",
       "Credit_History         0\n",
       "Property_Area          0\n",
       "dtype: int64"
      ]
     },
     "execution_count": 38,
     "metadata": {},
     "output_type": "execute_result"
    }
   ],
   "source": [
    "df.isnull().sum()"
   ]
  },
  {
   "cell_type": "code",
   "execution_count": 39,
   "id": "d50463e5",
   "metadata": {},
   "outputs": [],
   "source": [
    "#Top 5 Records"
   ]
  },
  {
   "cell_type": "code",
   "execution_count": 40,
   "id": "c611d0ec",
   "metadata": {},
   "outputs": [
    {
     "data": {
      "text/html": [
       "<div>\n",
       "<style scoped>\n",
       "    .dataframe tbody tr th:only-of-type {\n",
       "        vertical-align: middle;\n",
       "    }\n",
       "\n",
       "    .dataframe tbody tr th {\n",
       "        vertical-align: top;\n",
       "    }\n",
       "\n",
       "    .dataframe thead th {\n",
       "        text-align: right;\n",
       "    }\n",
       "</style>\n",
       "<table border=\"1\" class=\"dataframe\">\n",
       "  <thead>\n",
       "    <tr style=\"text-align: right;\">\n",
       "      <th></th>\n",
       "      <th>Loan_ID</th>\n",
       "      <th>Gender</th>\n",
       "      <th>Married</th>\n",
       "      <th>Dependents</th>\n",
       "      <th>Education</th>\n",
       "      <th>Self_Employed</th>\n",
       "      <th>Applicant_Income</th>\n",
       "      <th>Coapplicant_Income</th>\n",
       "      <th>LoanAmount</th>\n",
       "      <th>Loan_Amount_Term</th>\n",
       "      <th>Credit_History</th>\n",
       "      <th>Property_Area</th>\n",
       "    </tr>\n",
       "  </thead>\n",
       "  <tbody>\n",
       "    <tr>\n",
       "      <th>0</th>\n",
       "      <td>LP001015</td>\n",
       "      <td>Male</td>\n",
       "      <td>Yes</td>\n",
       "      <td>0</td>\n",
       "      <td>Graduate</td>\n",
       "      <td>No</td>\n",
       "      <td>5720</td>\n",
       "      <td>0</td>\n",
       "      <td>110.0</td>\n",
       "      <td>360</td>\n",
       "      <td>1</td>\n",
       "      <td>Urban</td>\n",
       "    </tr>\n",
       "    <tr>\n",
       "      <th>1</th>\n",
       "      <td>LP001022</td>\n",
       "      <td>Male</td>\n",
       "      <td>Yes</td>\n",
       "      <td>1</td>\n",
       "      <td>Graduate</td>\n",
       "      <td>No</td>\n",
       "      <td>3076</td>\n",
       "      <td>1500</td>\n",
       "      <td>126.0</td>\n",
       "      <td>360</td>\n",
       "      <td>1</td>\n",
       "      <td>Urban</td>\n",
       "    </tr>\n",
       "    <tr>\n",
       "      <th>2</th>\n",
       "      <td>LP001031</td>\n",
       "      <td>Male</td>\n",
       "      <td>Yes</td>\n",
       "      <td>2</td>\n",
       "      <td>Graduate</td>\n",
       "      <td>No</td>\n",
       "      <td>5000</td>\n",
       "      <td>1800</td>\n",
       "      <td>208.0</td>\n",
       "      <td>360</td>\n",
       "      <td>1</td>\n",
       "      <td>Urban</td>\n",
       "    </tr>\n",
       "    <tr>\n",
       "      <th>3</th>\n",
       "      <td>LP001035</td>\n",
       "      <td>Male</td>\n",
       "      <td></td>\n",
       "      <td>2</td>\n",
       "      <td>Graduate</td>\n",
       "      <td>No</td>\n",
       "      <td>2340</td>\n",
       "      <td>2546</td>\n",
       "      <td>100.0</td>\n",
       "      <td>360</td>\n",
       "      <td>1</td>\n",
       "      <td>Urban</td>\n",
       "    </tr>\n",
       "    <tr>\n",
       "      <th>4</th>\n",
       "      <td>LP001051</td>\n",
       "      <td>Male</td>\n",
       "      <td>No</td>\n",
       "      <td>0</td>\n",
       "      <td>Not Graduate</td>\n",
       "      <td>No</td>\n",
       "      <td>3276</td>\n",
       "      <td>0</td>\n",
       "      <td>78.0</td>\n",
       "      <td>360</td>\n",
       "      <td>1</td>\n",
       "      <td>Urban</td>\n",
       "    </tr>\n",
       "  </tbody>\n",
       "</table>\n",
       "</div>"
      ],
      "text/plain": [
       "    Loan_ID Gender Married Dependents     Education Self_Employed  \\\n",
       "0  LP001015   Male     Yes          0      Graduate            No   \n",
       "1  LP001022   Male     Yes          1      Graduate            No   \n",
       "2  LP001031   Male     Yes          2      Graduate            No   \n",
       "3  LP001035   Male                  2      Graduate            No   \n",
       "4  LP001051   Male      No          0  Not Graduate            No   \n",
       "\n",
       "  Applicant_Income  Coapplicant_Income  LoanAmount  Loan_Amount_Term  \\\n",
       "0             5720                   0       110.0               360   \n",
       "1             3076                1500       126.0               360   \n",
       "2             5000                1800       208.0               360   \n",
       "3             2340                2546       100.0               360   \n",
       "4             3276                   0        78.0               360   \n",
       "\n",
       "  Credit_History Property_Area  \n",
       "0              1         Urban  \n",
       "1              1         Urban  \n",
       "2              1         Urban  \n",
       "3              1         Urban  \n",
       "4              1         Urban  "
      ]
     },
     "execution_count": 40,
     "metadata": {},
     "output_type": "execute_result"
    }
   ],
   "source": [
    "df.head()"
   ]
  },
  {
   "cell_type": "code",
   "execution_count": 41,
   "id": "92593808",
   "metadata": {},
   "outputs": [],
   "source": [
    "#9. Export the dataframe in excel."
   ]
  },
  {
   "cell_type": "code",
   "execution_count": 42,
   "id": "75e1326b",
   "metadata": {},
   "outputs": [
    {
     "name": "stdout",
     "output_type": "stream",
     "text": [
      "done\n"
     ]
    }
   ],
   "source": [
    "df.to_excel(\"EDA_PERFORMED_LOAN_DATA.xlsx\")\n",
    "print(\"done\")"
   ]
  },
  {
   "cell_type": "code",
   "execution_count": 43,
   "id": "cd69603a",
   "metadata": {},
   "outputs": [],
   "source": [
    "#10. Number of Rows and Columns in a DataFrame"
   ]
  },
  {
   "cell_type": "code",
   "execution_count": 44,
   "id": "9618476f",
   "metadata": {},
   "outputs": [
    {
     "data": {
      "text/html": [
       "<div>\n",
       "<style scoped>\n",
       "    .dataframe tbody tr th:only-of-type {\n",
       "        vertical-align: middle;\n",
       "    }\n",
       "\n",
       "    .dataframe tbody tr th {\n",
       "        vertical-align: top;\n",
       "    }\n",
       "\n",
       "    .dataframe thead th {\n",
       "        text-align: right;\n",
       "    }\n",
       "</style>\n",
       "<table border=\"1\" class=\"dataframe\">\n",
       "  <thead>\n",
       "    <tr style=\"text-align: right;\">\n",
       "      <th></th>\n",
       "      <th>Loan_ID</th>\n",
       "      <th>Gender</th>\n",
       "      <th>Married</th>\n",
       "      <th>Dependents</th>\n",
       "      <th>Education</th>\n",
       "      <th>Self_Employed</th>\n",
       "      <th>Applicant_Income</th>\n",
       "      <th>Coapplicant_Income</th>\n",
       "      <th>LoanAmount</th>\n",
       "      <th>Loan_Amount_Term</th>\n",
       "      <th>Credit_History</th>\n",
       "      <th>Property_Area</th>\n",
       "    </tr>\n",
       "  </thead>\n",
       "  <tbody>\n",
       "    <tr>\n",
       "      <th>0</th>\n",
       "      <td>LP001015</td>\n",
       "      <td>Male</td>\n",
       "      <td>Yes</td>\n",
       "      <td>0</td>\n",
       "      <td>Graduate</td>\n",
       "      <td>No</td>\n",
       "      <td>5720</td>\n",
       "      <td>0</td>\n",
       "      <td>110.0</td>\n",
       "      <td>360</td>\n",
       "      <td>1</td>\n",
       "      <td>Urban</td>\n",
       "    </tr>\n",
       "    <tr>\n",
       "      <th>1</th>\n",
       "      <td>LP001022</td>\n",
       "      <td>Male</td>\n",
       "      <td>Yes</td>\n",
       "      <td>1</td>\n",
       "      <td>Graduate</td>\n",
       "      <td>No</td>\n",
       "      <td>3076</td>\n",
       "      <td>1500</td>\n",
       "      <td>126.0</td>\n",
       "      <td>360</td>\n",
       "      <td>1</td>\n",
       "      <td>Urban</td>\n",
       "    </tr>\n",
       "    <tr>\n",
       "      <th>2</th>\n",
       "      <td>LP001031</td>\n",
       "      <td>Male</td>\n",
       "      <td>Yes</td>\n",
       "      <td>2</td>\n",
       "      <td>Graduate</td>\n",
       "      <td>No</td>\n",
       "      <td>5000</td>\n",
       "      <td>1800</td>\n",
       "      <td>208.0</td>\n",
       "      <td>360</td>\n",
       "      <td>1</td>\n",
       "      <td>Urban</td>\n",
       "    </tr>\n",
       "    <tr>\n",
       "      <th>3</th>\n",
       "      <td>LP001035</td>\n",
       "      <td>Male</td>\n",
       "      <td></td>\n",
       "      <td>2</td>\n",
       "      <td>Graduate</td>\n",
       "      <td>No</td>\n",
       "      <td>2340</td>\n",
       "      <td>2546</td>\n",
       "      <td>100.0</td>\n",
       "      <td>360</td>\n",
       "      <td>1</td>\n",
       "      <td>Urban</td>\n",
       "    </tr>\n",
       "    <tr>\n",
       "      <th>4</th>\n",
       "      <td>LP001051</td>\n",
       "      <td>Male</td>\n",
       "      <td>No</td>\n",
       "      <td>0</td>\n",
       "      <td>Not Graduate</td>\n",
       "      <td>No</td>\n",
       "      <td>3276</td>\n",
       "      <td>0</td>\n",
       "      <td>78.0</td>\n",
       "      <td>360</td>\n",
       "      <td>1</td>\n",
       "      <td>Urban</td>\n",
       "    </tr>\n",
       "    <tr>\n",
       "      <th>...</th>\n",
       "      <td>...</td>\n",
       "      <td>...</td>\n",
       "      <td>...</td>\n",
       "      <td>...</td>\n",
       "      <td>...</td>\n",
       "      <td>...</td>\n",
       "      <td>...</td>\n",
       "      <td>...</td>\n",
       "      <td>...</td>\n",
       "      <td>...</td>\n",
       "      <td>...</td>\n",
       "      <td>...</td>\n",
       "    </tr>\n",
       "    <tr>\n",
       "      <th>362</th>\n",
       "      <td>LP002971</td>\n",
       "      <td>Male</td>\n",
       "      <td>Yes</td>\n",
       "      <td>3+</td>\n",
       "      <td>Not Graduate</td>\n",
       "      <td>Yes</td>\n",
       "      <td>4009</td>\n",
       "      <td>1777</td>\n",
       "      <td>113.0</td>\n",
       "      <td>360</td>\n",
       "      <td>1</td>\n",
       "      <td>Urban</td>\n",
       "    </tr>\n",
       "    <tr>\n",
       "      <th>363</th>\n",
       "      <td>LP002975</td>\n",
       "      <td>Male</td>\n",
       "      <td>Yes</td>\n",
       "      <td>0</td>\n",
       "      <td>Graduate</td>\n",
       "      <td>No</td>\n",
       "      <td>4158</td>\n",
       "      <td>709</td>\n",
       "      <td>115.0</td>\n",
       "      <td>360</td>\n",
       "      <td>1</td>\n",
       "      <td>Urban</td>\n",
       "    </tr>\n",
       "    <tr>\n",
       "      <th>364</th>\n",
       "      <td>LP002980</td>\n",
       "      <td>Male</td>\n",
       "      <td>No</td>\n",
       "      <td>0</td>\n",
       "      <td>Graduate</td>\n",
       "      <td>No</td>\n",
       "      <td>3250</td>\n",
       "      <td>1993</td>\n",
       "      <td>126.0</td>\n",
       "      <td>360</td>\n",
       "      <td>1</td>\n",
       "      <td>Semiurban</td>\n",
       "    </tr>\n",
       "    <tr>\n",
       "      <th>365</th>\n",
       "      <td>LP002986</td>\n",
       "      <td>Male</td>\n",
       "      <td>Yes</td>\n",
       "      <td>0</td>\n",
       "      <td>Graduate</td>\n",
       "      <td>No</td>\n",
       "      <td>5000</td>\n",
       "      <td>2393</td>\n",
       "      <td>158.0</td>\n",
       "      <td>360</td>\n",
       "      <td>1</td>\n",
       "      <td>Rural</td>\n",
       "    </tr>\n",
       "    <tr>\n",
       "      <th>366</th>\n",
       "      <td>LP002989</td>\n",
       "      <td>Male</td>\n",
       "      <td>No</td>\n",
       "      <td>0</td>\n",
       "      <td>Graduate</td>\n",
       "      <td>Yes</td>\n",
       "      <td>9200</td>\n",
       "      <td>0</td>\n",
       "      <td>98.0</td>\n",
       "      <td>180</td>\n",
       "      <td>1</td>\n",
       "      <td>Rural</td>\n",
       "    </tr>\n",
       "  </tbody>\n",
       "</table>\n",
       "<p>367 rows × 12 columns</p>\n",
       "</div>"
      ],
      "text/plain": [
       "      Loan_ID Gender Married Dependents     Education Self_Employed  \\\n",
       "0    LP001015   Male     Yes          0      Graduate            No   \n",
       "1    LP001022   Male     Yes          1      Graduate            No   \n",
       "2    LP001031   Male     Yes          2      Graduate            No   \n",
       "3    LP001035   Male                  2      Graduate            No   \n",
       "4    LP001051   Male      No          0  Not Graduate            No   \n",
       "..        ...    ...     ...        ...           ...           ...   \n",
       "362  LP002971   Male     Yes         3+  Not Graduate           Yes   \n",
       "363  LP002975   Male     Yes          0      Graduate            No   \n",
       "364  LP002980   Male      No          0      Graduate            No   \n",
       "365  LP002986   Male     Yes          0      Graduate            No   \n",
       "366  LP002989   Male      No          0      Graduate           Yes   \n",
       "\n",
       "    Applicant_Income  Coapplicant_Income  LoanAmount  Loan_Amount_Term  \\\n",
       "0               5720                   0       110.0               360   \n",
       "1               3076                1500       126.0               360   \n",
       "2               5000                1800       208.0               360   \n",
       "3               2340                2546       100.0               360   \n",
       "4               3276                   0        78.0               360   \n",
       "..               ...                 ...         ...               ...   \n",
       "362             4009                1777       113.0               360   \n",
       "363             4158                 709       115.0               360   \n",
       "364             3250                1993       126.0               360   \n",
       "365             5000                2393       158.0               360   \n",
       "366             9200                   0        98.0               180   \n",
       "\n",
       "    Credit_History Property_Area  \n",
       "0                1         Urban  \n",
       "1                1         Urban  \n",
       "2                1         Urban  \n",
       "3                1         Urban  \n",
       "4                1         Urban  \n",
       "..             ...           ...  \n",
       "362              1         Urban  \n",
       "363              1         Urban  \n",
       "364              1     Semiurban  \n",
       "365              1         Rural  \n",
       "366              1         Rural  \n",
       "\n",
       "[367 rows x 12 columns]"
      ]
     },
     "execution_count": 44,
     "metadata": {},
     "output_type": "execute_result"
    }
   ],
   "source": [
    "df"
   ]
  },
  {
   "cell_type": "code",
   "execution_count": 45,
   "id": "a12d7245",
   "metadata": {},
   "outputs": [
    {
     "data": {
      "text/plain": [
       "(367, 12)"
      ]
     },
     "execution_count": 45,
     "metadata": {},
     "output_type": "execute_result"
    }
   ],
   "source": [
    "df.shape"
   ]
  },
  {
   "cell_type": "code",
   "execution_count": 46,
   "id": "ba9a6bd6",
   "metadata": {},
   "outputs": [],
   "source": [
    "#11. Print all Column names in a DF"
   ]
  },
  {
   "cell_type": "code",
   "execution_count": 47,
   "id": "2837aaa6",
   "metadata": {},
   "outputs": [
    {
     "data": {
      "text/plain": [
       "Index(['Loan_ID', 'Gender', 'Married', 'Dependents', 'Education',\n",
       "       'Self_Employed', 'Applicant_Income', 'Coapplicant_Income', 'LoanAmount',\n",
       "       'Loan_Amount_Term', 'Credit_History', 'Property_Area'],\n",
       "      dtype='object')"
      ]
     },
     "execution_count": 47,
     "metadata": {},
     "output_type": "execute_result"
    }
   ],
   "source": [
    "df.columns"
   ]
  },
  {
   "cell_type": "code",
   "execution_count": 48,
   "id": "18c22909",
   "metadata": {},
   "outputs": [],
   "source": [
    "#12. Generate the descriptive statistics of Numerical variables."
   ]
  },
  {
   "cell_type": "code",
   "execution_count": 49,
   "id": "eb01a8ae",
   "metadata": {},
   "outputs": [
    {
     "data": {
      "text/html": [
       "<div>\n",
       "<style scoped>\n",
       "    .dataframe tbody tr th:only-of-type {\n",
       "        vertical-align: middle;\n",
       "    }\n",
       "\n",
       "    .dataframe tbody tr th {\n",
       "        vertical-align: top;\n",
       "    }\n",
       "\n",
       "    .dataframe thead th {\n",
       "        text-align: right;\n",
       "    }\n",
       "</style>\n",
       "<table border=\"1\" class=\"dataframe\">\n",
       "  <thead>\n",
       "    <tr style=\"text-align: right;\">\n",
       "      <th></th>\n",
       "      <th>Coapplicant_Income</th>\n",
       "      <th>LoanAmount</th>\n",
       "      <th>Loan_Amount_Term</th>\n",
       "    </tr>\n",
       "  </thead>\n",
       "  <tbody>\n",
       "    <tr>\n",
       "      <th>count</th>\n",
       "      <td>367.000000</td>\n",
       "      <td>367.000000</td>\n",
       "      <td>367.000000</td>\n",
       "    </tr>\n",
       "    <tr>\n",
       "      <th>mean</th>\n",
       "      <td>1569.577657</td>\n",
       "      <td>163.454906</td>\n",
       "      <td>342.822888</td>\n",
       "    </tr>\n",
       "    <tr>\n",
       "      <th>std</th>\n",
       "      <td>2334.232099</td>\n",
       "      <td>518.385696</td>\n",
       "      <td>64.658402</td>\n",
       "    </tr>\n",
       "    <tr>\n",
       "      <th>min</th>\n",
       "      <td>0.000000</td>\n",
       "      <td>28.000000</td>\n",
       "      <td>6.000000</td>\n",
       "    </tr>\n",
       "    <tr>\n",
       "      <th>25%</th>\n",
       "      <td>0.000000</td>\n",
       "      <td>102.000000</td>\n",
       "      <td>360.000000</td>\n",
       "    </tr>\n",
       "    <tr>\n",
       "      <th>50%</th>\n",
       "      <td>1025.000000</td>\n",
       "      <td>125.000000</td>\n",
       "      <td>360.000000</td>\n",
       "    </tr>\n",
       "    <tr>\n",
       "      <th>75%</th>\n",
       "      <td>2430.500000</td>\n",
       "      <td>158.500000</td>\n",
       "      <td>360.000000</td>\n",
       "    </tr>\n",
       "    <tr>\n",
       "      <th>max</th>\n",
       "      <td>24000.000000</td>\n",
       "      <td>9999.000000</td>\n",
       "      <td>480.000000</td>\n",
       "    </tr>\n",
       "  </tbody>\n",
       "</table>\n",
       "</div>"
      ],
      "text/plain": [
       "       Coapplicant_Income   LoanAmount  Loan_Amount_Term\n",
       "count          367.000000   367.000000        367.000000\n",
       "mean          1569.577657   163.454906        342.822888\n",
       "std           2334.232099   518.385696         64.658402\n",
       "min              0.000000    28.000000          6.000000\n",
       "25%              0.000000   102.000000        360.000000\n",
       "50%           1025.000000   125.000000        360.000000\n",
       "75%           2430.500000   158.500000        360.000000\n",
       "max          24000.000000  9999.000000        480.000000"
      ]
     },
     "execution_count": 49,
     "metadata": {},
     "output_type": "execute_result"
    }
   ],
   "source": [
    "df.describe()"
   ]
  },
  {
   "cell_type": "code",
   "execution_count": 50,
   "id": "79247d6c",
   "metadata": {},
   "outputs": [],
   "source": [
    "    #13. Display numeric data type columns in a DF "
   ]
  },
  {
   "cell_type": "code",
   "execution_count": 51,
   "id": "9950e6b8",
   "metadata": {},
   "outputs": [
    {
     "data": {
      "text/plain": [
       "Index(['Coapplicant_Income', 'LoanAmount', 'Loan_Amount_Term'], dtype='object')"
      ]
     },
     "execution_count": 51,
     "metadata": {},
     "output_type": "execute_result"
    }
   ],
   "source": [
    "df.select_dtypes(include=[np.number]).columns"
   ]
  },
  {
   "cell_type": "code",
   "execution_count": 52,
   "id": "0c701ea6",
   "metadata": {},
   "outputs": [],
   "source": [
    "#14. Select all data types of columns in a DF except object data type."
   ]
  },
  {
   "cell_type": "code",
   "execution_count": 53,
   "id": "5ca6e2e7",
   "metadata": {},
   "outputs": [
    {
     "data": {
      "text/plain": [
       "Index(['Coapplicant_Income', 'LoanAmount', 'Loan_Amount_Term'], dtype='object')"
      ]
     },
     "execution_count": 53,
     "metadata": {},
     "output_type": "execute_result"
    }
   ],
   "source": [
    "df.select_dtypes(exclude=[\"object\"]).columns"
   ]
  },
  {
   "cell_type": "code",
   "execution_count": 54,
   "id": "ca367554",
   "metadata": {},
   "outputs": [],
   "source": [
    "#15. Extract all the Records where Self_Employed is equal to Yes."
   ]
  },
  {
   "cell_type": "code",
   "execution_count": 55,
   "id": "900230b5",
   "metadata": {},
   "outputs": [
    {
     "data": {
      "text/html": [
       "<div>\n",
       "<style scoped>\n",
       "    .dataframe tbody tr th:only-of-type {\n",
       "        vertical-align: middle;\n",
       "    }\n",
       "\n",
       "    .dataframe tbody tr th {\n",
       "        vertical-align: top;\n",
       "    }\n",
       "\n",
       "    .dataframe thead th {\n",
       "        text-align: right;\n",
       "    }\n",
       "</style>\n",
       "<table border=\"1\" class=\"dataframe\">\n",
       "  <thead>\n",
       "    <tr style=\"text-align: right;\">\n",
       "      <th></th>\n",
       "      <th>Loan_ID</th>\n",
       "      <th>Gender</th>\n",
       "      <th>Married</th>\n",
       "      <th>Dependents</th>\n",
       "      <th>Education</th>\n",
       "      <th>Self_Employed</th>\n",
       "      <th>Applicant_Income</th>\n",
       "      <th>Coapplicant_Income</th>\n",
       "      <th>LoanAmount</th>\n",
       "      <th>Loan_Amount_Term</th>\n",
       "      <th>Credit_History</th>\n",
       "      <th>Property_Area</th>\n",
       "    </tr>\n",
       "  </thead>\n",
       "  <tbody>\n",
       "    <tr>\n",
       "      <th>5</th>\n",
       "      <td>LP001054</td>\n",
       "      <td>Male</td>\n",
       "      <td>Yes</td>\n",
       "      <td>0</td>\n",
       "      <td>Not Graduate</td>\n",
       "      <td>Yes</td>\n",
       "      <td>2165</td>\n",
       "      <td>3422</td>\n",
       "      <td>152.0</td>\n",
       "      <td>360</td>\n",
       "      <td>1</td>\n",
       "      <td>Urban</td>\n",
       "    </tr>\n",
       "    <tr>\n",
       "      <th>37</th>\n",
       "      <td>LP001210</td>\n",
       "      <td>Male</td>\n",
       "      <td>Yes</td>\n",
       "      <td>0</td>\n",
       "      <td>Graduate</td>\n",
       "      <td>Yes</td>\n",
       "      <td>2267</td>\n",
       "      <td>2792</td>\n",
       "      <td>90.0</td>\n",
       "      <td>360</td>\n",
       "      <td>1</td>\n",
       "      <td>Urban</td>\n",
       "    </tr>\n",
       "    <tr>\n",
       "      <th>38</th>\n",
       "      <td>LP001211</td>\n",
       "      <td>Male</td>\n",
       "      <td>No</td>\n",
       "      <td>0</td>\n",
       "      <td>Graduate</td>\n",
       "      <td>Yes</td>\n",
       "      <td>5833</td>\n",
       "      <td>0</td>\n",
       "      <td>116.0</td>\n",
       "      <td>360</td>\n",
       "      <td>1</td>\n",
       "      <td>Urban</td>\n",
       "    </tr>\n",
       "    <tr>\n",
       "      <th>49</th>\n",
       "      <td>LP001270</td>\n",
       "      <td>Male</td>\n",
       "      <td>Yes</td>\n",
       "      <td>3+</td>\n",
       "      <td>Not Graduate</td>\n",
       "      <td>Yes</td>\n",
       "      <td>8000</td>\n",
       "      <td>250</td>\n",
       "      <td>187.0</td>\n",
       "      <td>360</td>\n",
       "      <td>1</td>\n",
       "      <td>Semiurban</td>\n",
       "    </tr>\n",
       "    <tr>\n",
       "      <th>61</th>\n",
       "      <td>LP001335</td>\n",
       "      <td>Male</td>\n",
       "      <td>Yes</td>\n",
       "      <td>0</td>\n",
       "      <td>Graduate</td>\n",
       "      <td>Yes</td>\n",
       "      <td>7016</td>\n",
       "      <td>292</td>\n",
       "      <td>125.0</td>\n",
       "      <td>360</td>\n",
       "      <td>1</td>\n",
       "      <td>Urban</td>\n",
       "    </tr>\n",
       "    <tr>\n",
       "      <th>73</th>\n",
       "      <td>LP001380</td>\n",
       "      <td>Male</td>\n",
       "      <td>Yes</td>\n",
       "      <td>0</td>\n",
       "      <td>Graduate</td>\n",
       "      <td>Yes</td>\n",
       "      <td>3900</td>\n",
       "      <td>2094</td>\n",
       "      <td>232.0</td>\n",
       "      <td>360</td>\n",
       "      <td>1</td>\n",
       "      <td>Rural</td>\n",
       "    </tr>\n",
       "    <tr>\n",
       "      <th>77</th>\n",
       "      <td>LP001413</td>\n",
       "      <td>Male</td>\n",
       "      <td>No</td>\n",
       "      <td>0</td>\n",
       "      <td>Graduate</td>\n",
       "      <td>Yes</td>\n",
       "      <td>6356</td>\n",
       "      <td>0</td>\n",
       "      <td>50.0</td>\n",
       "      <td>360</td>\n",
       "      <td>1</td>\n",
       "      <td>Rural</td>\n",
       "    </tr>\n",
       "    <tr>\n",
       "      <th>90</th>\n",
       "      <td>LP001475</td>\n",
       "      <td>Male</td>\n",
       "      <td>Yes</td>\n",
       "      <td>0</td>\n",
       "      <td>Graduate</td>\n",
       "      <td>Yes</td>\n",
       "      <td>3188</td>\n",
       "      <td>2286</td>\n",
       "      <td>130.0</td>\n",
       "      <td>360</td>\n",
       "      <td>1</td>\n",
       "      <td>Rural</td>\n",
       "    </tr>\n",
       "    <tr>\n",
       "      <th>110</th>\n",
       "      <td>LP001584</td>\n",
       "      <td>Female</td>\n",
       "      <td>#</td>\n",
       "      <td>0</td>\n",
       "      <td>Graduate</td>\n",
       "      <td>Yes</td>\n",
       "      <td>4742</td>\n",
       "      <td>0</td>\n",
       "      <td>108.0</td>\n",
       "      <td>360</td>\n",
       "      <td>1</td>\n",
       "      <td>Semiurban</td>\n",
       "    </tr>\n",
       "    <tr>\n",
       "      <th>132</th>\n",
       "      <td>LP001728</td>\n",
       "      <td>Male</td>\n",
       "      <td>Yes</td>\n",
       "      <td>1</td>\n",
       "      <td>Graduate</td>\n",
       "      <td>Yes</td>\n",
       "      <td>3343</td>\n",
       "      <td>1517</td>\n",
       "      <td>105.0</td>\n",
       "      <td>360</td>\n",
       "      <td>1</td>\n",
       "      <td>Rural</td>\n",
       "    </tr>\n",
       "    <tr>\n",
       "      <th>143</th>\n",
       "      <td>LP001791</td>\n",
       "      <td>Male</td>\n",
       "      <td>Yes</td>\n",
       "      <td>0</td>\n",
       "      <td>Graduate</td>\n",
       "      <td>Yes</td>\n",
       "      <td>32000</td>\n",
       "      <td>0</td>\n",
       "      <td>550.0</td>\n",
       "      <td>360</td>\n",
       "      <td>1</td>\n",
       "      <td>Semiurban</td>\n",
       "    </tr>\n",
       "    <tr>\n",
       "      <th>144</th>\n",
       "      <td>LP001794</td>\n",
       "      <td>Male</td>\n",
       "      <td>Yes</td>\n",
       "      <td>2</td>\n",
       "      <td>Graduate</td>\n",
       "      <td>Yes</td>\n",
       "      <td>10890</td>\n",
       "      <td>0</td>\n",
       "      <td>260.0</td>\n",
       "      <td>12</td>\n",
       "      <td>1</td>\n",
       "      <td>Rural</td>\n",
       "    </tr>\n",
       "    <tr>\n",
       "      <th>147</th>\n",
       "      <td>LP001817</td>\n",
       "      <td>Male</td>\n",
       "      <td>No</td>\n",
       "      <td>0</td>\n",
       "      <td>Not Graduate</td>\n",
       "      <td>Yes</td>\n",
       "      <td>8703</td>\n",
       "      <td>0</td>\n",
       "      <td>199.0</td>\n",
       "      <td>360</td>\n",
       "      <td>1</td>\n",
       "      <td>Rural</td>\n",
       "    </tr>\n",
       "    <tr>\n",
       "      <th>155</th>\n",
       "      <td>LP001857</td>\n",
       "      <td>Male</td>\n",
       "      <td>No</td>\n",
       "      <td>0</td>\n",
       "      <td>Not Graduate</td>\n",
       "      <td>Yes</td>\n",
       "      <td>1599</td>\n",
       "      <td>2474</td>\n",
       "      <td>125.0</td>\n",
       "      <td>300</td>\n",
       "      <td>1</td>\n",
       "      <td>Semiurban</td>\n",
       "    </tr>\n",
       "    <tr>\n",
       "      <th>156</th>\n",
       "      <td>LP001862</td>\n",
       "      <td>Male</td>\n",
       "      <td>Yes</td>\n",
       "      <td>2</td>\n",
       "      <td>Graduate</td>\n",
       "      <td>Yes</td>\n",
       "      <td>4246</td>\n",
       "      <td>4246</td>\n",
       "      <td>214.0</td>\n",
       "      <td>360</td>\n",
       "      <td>1</td>\n",
       "      <td>Urban</td>\n",
       "    </tr>\n",
       "    <tr>\n",
       "      <th>195</th>\n",
       "      <td>LP002083</td>\n",
       "      <td>Male</td>\n",
       "      <td>No</td>\n",
       "      <td>0</td>\n",
       "      <td>Graduate</td>\n",
       "      <td>Yes</td>\n",
       "      <td>5833</td>\n",
       "      <td>0</td>\n",
       "      <td>116.0</td>\n",
       "      <td>360</td>\n",
       "      <td>1</td>\n",
       "      <td>Urban</td>\n",
       "    </tr>\n",
       "    <tr>\n",
       "      <th>200</th>\n",
       "      <td>LP002105</td>\n",
       "      <td>Male</td>\n",
       "      <td>Yes</td>\n",
       "      <td>0</td>\n",
       "      <td>Graduate</td>\n",
       "      <td>Yes</td>\n",
       "      <td>8706</td>\n",
       "      <td>0</td>\n",
       "      <td>108.0</td>\n",
       "      <td>480</td>\n",
       "      <td>1</td>\n",
       "      <td>Rural</td>\n",
       "    </tr>\n",
       "    <tr>\n",
       "      <th>212</th>\n",
       "      <td>LP002172</td>\n",
       "      <td>Male</td>\n",
       "      <td>Yes</td>\n",
       "      <td>3+</td>\n",
       "      <td>Graduate</td>\n",
       "      <td>Yes</td>\n",
       "      <td>5384</td>\n",
       "      <td>0</td>\n",
       "      <td>150.0</td>\n",
       "      <td>360</td>\n",
       "      <td>1</td>\n",
       "      <td>Semiurban</td>\n",
       "    </tr>\n",
       "    <tr>\n",
       "      <th>218</th>\n",
       "      <td>LP002195</td>\n",
       "      <td>Male</td>\n",
       "      <td>Yes</td>\n",
       "      <td>1</td>\n",
       "      <td>Graduate</td>\n",
       "      <td>Yes</td>\n",
       "      <td>3507</td>\n",
       "      <td>3148</td>\n",
       "      <td>212.0</td>\n",
       "      <td>360</td>\n",
       "      <td>1</td>\n",
       "      <td>Rural</td>\n",
       "    </tr>\n",
       "    <tr>\n",
       "      <th>224</th>\n",
       "      <td>LP002256</td>\n",
       "      <td>Female</td>\n",
       "      <td>No</td>\n",
       "      <td>2</td>\n",
       "      <td>Graduate</td>\n",
       "      <td>Yes</td>\n",
       "      <td>5184</td>\n",
       "      <td>0</td>\n",
       "      <td>187.0</td>\n",
       "      <td>360</td>\n",
       "      <td>1</td>\n",
       "      <td>Semiurban</td>\n",
       "    </tr>\n",
       "    <tr>\n",
       "      <th>231</th>\n",
       "      <td>LP002298</td>\n",
       "      <td>Male</td>\n",
       "      <td>No</td>\n",
       "      <td>0</td>\n",
       "      <td>Graduate</td>\n",
       "      <td>Yes</td>\n",
       "      <td>2860</td>\n",
       "      <td>2988</td>\n",
       "      <td>138.0</td>\n",
       "      <td>360</td>\n",
       "      <td>1</td>\n",
       "      <td>Urban</td>\n",
       "    </tr>\n",
       "    <tr>\n",
       "      <th>246</th>\n",
       "      <td>LP002358</td>\n",
       "      <td>Male</td>\n",
       "      <td>Yes</td>\n",
       "      <td>2</td>\n",
       "      <td>Graduate</td>\n",
       "      <td>Yes</td>\n",
       "      <td>5000</td>\n",
       "      <td>2166</td>\n",
       "      <td>150.0</td>\n",
       "      <td>360</td>\n",
       "      <td>1</td>\n",
       "      <td>Urban</td>\n",
       "    </tr>\n",
       "    <tr>\n",
       "      <th>248</th>\n",
       "      <td>LP002375</td>\n",
       "      <td>Male</td>\n",
       "      <td>Yes</td>\n",
       "      <td>0</td>\n",
       "      <td>Not Graduate</td>\n",
       "      <td>Yes</td>\n",
       "      <td>3943</td>\n",
       "      <td>0</td>\n",
       "      <td>64.0</td>\n",
       "      <td>360</td>\n",
       "      <td>1</td>\n",
       "      <td>Semiurban</td>\n",
       "    </tr>\n",
       "    <tr>\n",
       "      <th>271</th>\n",
       "      <td>LP002482</td>\n",
       "      <td>Female</td>\n",
       "      <td>No</td>\n",
       "      <td>0</td>\n",
       "      <td>Graduate</td>\n",
       "      <td>Yes</td>\n",
       "      <td>3333</td>\n",
       "      <td>3916</td>\n",
       "      <td>212.0</td>\n",
       "      <td>360</td>\n",
       "      <td>1</td>\n",
       "      <td>Rural</td>\n",
       "    </tr>\n",
       "    <tr>\n",
       "      <th>300</th>\n",
       "      <td>LP002644</td>\n",
       "      <td>Male</td>\n",
       "      <td>Yes</td>\n",
       "      <td>1</td>\n",
       "      <td>Graduate</td>\n",
       "      <td>Yes</td>\n",
       "      <td>7500</td>\n",
       "      <td>0</td>\n",
       "      <td>75.0</td>\n",
       "      <td>360</td>\n",
       "      <td>1</td>\n",
       "      <td>Urban</td>\n",
       "    </tr>\n",
       "    <tr>\n",
       "      <th>303</th>\n",
       "      <td>LP002657</td>\n",
       "      <td>Male</td>\n",
       "      <td>Yes</td>\n",
       "      <td>1</td>\n",
       "      <td>Not Graduate</td>\n",
       "      <td>Yes</td>\n",
       "      <td>570</td>\n",
       "      <td>2125</td>\n",
       "      <td>68.0</td>\n",
       "      <td>360</td>\n",
       "      <td>1</td>\n",
       "      <td>Rural</td>\n",
       "    </tr>\n",
       "    <tr>\n",
       "      <th>306</th>\n",
       "      <td>LP002721</td>\n",
       "      <td>Male</td>\n",
       "      <td>Yes</td>\n",
       "      <td>2</td>\n",
       "      <td>Graduate</td>\n",
       "      <td>Yes</td>\n",
       "      <td>7500</td>\n",
       "      <td>0</td>\n",
       "      <td>183.0</td>\n",
       "      <td>360</td>\n",
       "      <td>1</td>\n",
       "      <td>Rural</td>\n",
       "    </tr>\n",
       "    <tr>\n",
       "      <th>328</th>\n",
       "      <td>LP002806</td>\n",
       "      <td>Male</td>\n",
       "      <td>Yes</td>\n",
       "      <td>3+</td>\n",
       "      <td>Graduate</td>\n",
       "      <td>Yes</td>\n",
       "      <td>6958</td>\n",
       "      <td>1411</td>\n",
       "      <td>150.0</td>\n",
       "      <td>360</td>\n",
       "      <td>1</td>\n",
       "      <td>Rural</td>\n",
       "    </tr>\n",
       "    <tr>\n",
       "      <th>338</th>\n",
       "      <td>LP002857</td>\n",
       "      <td>Male</td>\n",
       "      <td>Yes</td>\n",
       "      <td>1</td>\n",
       "      <td>Graduate</td>\n",
       "      <td>Yes</td>\n",
       "      <td>2360</td>\n",
       "      <td>3355</td>\n",
       "      <td>87.0</td>\n",
       "      <td>240</td>\n",
       "      <td>1</td>\n",
       "      <td>Rural</td>\n",
       "    </tr>\n",
       "    <tr>\n",
       "      <th>340</th>\n",
       "      <td>LP002860</td>\n",
       "      <td>Male</td>\n",
       "      <td>Yes</td>\n",
       "      <td>0</td>\n",
       "      <td>Graduate</td>\n",
       "      <td>Yes</td>\n",
       "      <td>2623</td>\n",
       "      <td>4831</td>\n",
       "      <td>122.0</td>\n",
       "      <td>180</td>\n",
       "      <td>1</td>\n",
       "      <td>Semiurban</td>\n",
       "    </tr>\n",
       "    <tr>\n",
       "      <th>341</th>\n",
       "      <td>LP002867</td>\n",
       "      <td>Male</td>\n",
       "      <td>No</td>\n",
       "      <td>0</td>\n",
       "      <td>Graduate</td>\n",
       "      <td>Yes</td>\n",
       "      <td>3972</td>\n",
       "      <td>4275</td>\n",
       "      <td>187.0</td>\n",
       "      <td>360</td>\n",
       "      <td>1</td>\n",
       "      <td>Rural</td>\n",
       "    </tr>\n",
       "    <tr>\n",
       "      <th>349</th>\n",
       "      <td>LP002891</td>\n",
       "      <td>Male</td>\n",
       "      <td>Yes</td>\n",
       "      <td>0</td>\n",
       "      <td>Graduate</td>\n",
       "      <td>Yes</td>\n",
       "      <td>2500</td>\n",
       "      <td>296</td>\n",
       "      <td>137.0</td>\n",
       "      <td>300</td>\n",
       "      <td>1</td>\n",
       "      <td>Rural</td>\n",
       "    </tr>\n",
       "    <tr>\n",
       "      <th>362</th>\n",
       "      <td>LP002971</td>\n",
       "      <td>Male</td>\n",
       "      <td>Yes</td>\n",
       "      <td>3+</td>\n",
       "      <td>Not Graduate</td>\n",
       "      <td>Yes</td>\n",
       "      <td>4009</td>\n",
       "      <td>1777</td>\n",
       "      <td>113.0</td>\n",
       "      <td>360</td>\n",
       "      <td>1</td>\n",
       "      <td>Urban</td>\n",
       "    </tr>\n",
       "    <tr>\n",
       "      <th>366</th>\n",
       "      <td>LP002989</td>\n",
       "      <td>Male</td>\n",
       "      <td>No</td>\n",
       "      <td>0</td>\n",
       "      <td>Graduate</td>\n",
       "      <td>Yes</td>\n",
       "      <td>9200</td>\n",
       "      <td>0</td>\n",
       "      <td>98.0</td>\n",
       "      <td>180</td>\n",
       "      <td>1</td>\n",
       "      <td>Rural</td>\n",
       "    </tr>\n",
       "  </tbody>\n",
       "</table>\n",
       "</div>"
      ],
      "text/plain": [
       "      Loan_ID  Gender Married Dependents     Education Self_Employed  \\\n",
       "5    LP001054    Male     Yes          0  Not Graduate           Yes   \n",
       "37   LP001210    Male     Yes          0      Graduate           Yes   \n",
       "38   LP001211    Male      No          0      Graduate           Yes   \n",
       "49   LP001270    Male     Yes         3+  Not Graduate           Yes   \n",
       "61   LP001335    Male     Yes          0      Graduate           Yes   \n",
       "73   LP001380    Male     Yes          0      Graduate           Yes   \n",
       "77   LP001413    Male      No          0      Graduate           Yes   \n",
       "90   LP001475    Male     Yes          0      Graduate           Yes   \n",
       "110  LP001584  Female       #          0      Graduate           Yes   \n",
       "132  LP001728    Male     Yes          1      Graduate           Yes   \n",
       "143  LP001791    Male     Yes          0      Graduate           Yes   \n",
       "144  LP001794    Male     Yes          2      Graduate           Yes   \n",
       "147  LP001817    Male      No          0  Not Graduate           Yes   \n",
       "155  LP001857    Male      No          0  Not Graduate           Yes   \n",
       "156  LP001862    Male     Yes          2      Graduate           Yes   \n",
       "195  LP002083    Male      No          0      Graduate           Yes   \n",
       "200  LP002105    Male     Yes          0      Graduate           Yes   \n",
       "212  LP002172    Male     Yes         3+      Graduate           Yes   \n",
       "218  LP002195    Male     Yes          1      Graduate           Yes   \n",
       "224  LP002256  Female      No          2      Graduate           Yes   \n",
       "231  LP002298    Male      No          0      Graduate           Yes   \n",
       "246  LP002358    Male     Yes          2      Graduate           Yes   \n",
       "248  LP002375    Male     Yes          0  Not Graduate           Yes   \n",
       "271  LP002482  Female      No          0      Graduate           Yes   \n",
       "300  LP002644    Male     Yes          1      Graduate           Yes   \n",
       "303  LP002657    Male     Yes          1  Not Graduate           Yes   \n",
       "306  LP002721    Male     Yes          2      Graduate           Yes   \n",
       "328  LP002806    Male     Yes         3+      Graduate           Yes   \n",
       "338  LP002857    Male     Yes          1      Graduate           Yes   \n",
       "340  LP002860    Male     Yes          0      Graduate           Yes   \n",
       "341  LP002867    Male      No          0      Graduate           Yes   \n",
       "349  LP002891    Male     Yes          0      Graduate           Yes   \n",
       "362  LP002971    Male     Yes         3+  Not Graduate           Yes   \n",
       "366  LP002989    Male      No          0      Graduate           Yes   \n",
       "\n",
       "    Applicant_Income  Coapplicant_Income  LoanAmount  Loan_Amount_Term  \\\n",
       "5               2165                3422       152.0               360   \n",
       "37              2267                2792        90.0               360   \n",
       "38              5833                   0       116.0               360   \n",
       "49              8000                 250       187.0               360   \n",
       "61              7016                 292       125.0               360   \n",
       "73              3900                2094       232.0               360   \n",
       "77              6356                   0        50.0               360   \n",
       "90              3188                2286       130.0               360   \n",
       "110             4742                   0       108.0               360   \n",
       "132             3343                1517       105.0               360   \n",
       "143            32000                   0       550.0               360   \n",
       "144            10890                   0       260.0                12   \n",
       "147             8703                   0       199.0               360   \n",
       "155             1599                2474       125.0               300   \n",
       "156             4246                4246       214.0               360   \n",
       "195             5833                   0       116.0               360   \n",
       "200             8706                   0       108.0               480   \n",
       "212             5384                   0       150.0               360   \n",
       "218             3507                3148       212.0               360   \n",
       "224             5184                   0       187.0               360   \n",
       "231             2860                2988       138.0               360   \n",
       "246             5000                2166       150.0               360   \n",
       "248             3943                   0        64.0               360   \n",
       "271             3333                3916       212.0               360   \n",
       "300             7500                   0        75.0               360   \n",
       "303              570                2125        68.0               360   \n",
       "306             7500                   0       183.0               360   \n",
       "328             6958                1411       150.0               360   \n",
       "338             2360                3355        87.0               240   \n",
       "340             2623                4831       122.0               180   \n",
       "341             3972                4275       187.0               360   \n",
       "349             2500                 296       137.0               300   \n",
       "362             4009                1777       113.0               360   \n",
       "366             9200                   0        98.0               180   \n",
       "\n",
       "    Credit_History Property_Area  \n",
       "5                1         Urban  \n",
       "37               1         Urban  \n",
       "38               1         Urban  \n",
       "49               1     Semiurban  \n",
       "61               1         Urban  \n",
       "73               1         Rural  \n",
       "77               1         Rural  \n",
       "90               1         Rural  \n",
       "110              1     Semiurban  \n",
       "132              1         Rural  \n",
       "143              1     Semiurban  \n",
       "144              1         Rural  \n",
       "147              1         Rural  \n",
       "155              1     Semiurban  \n",
       "156              1         Urban  \n",
       "195              1         Urban  \n",
       "200              1         Rural  \n",
       "212              1     Semiurban  \n",
       "218              1         Rural  \n",
       "224              1     Semiurban  \n",
       "231              1         Urban  \n",
       "246              1         Urban  \n",
       "248              1     Semiurban  \n",
       "271              1         Rural  \n",
       "300              1         Urban  \n",
       "303              1         Rural  \n",
       "306              1         Rural  \n",
       "328              1         Rural  \n",
       "338              1         Rural  \n",
       "340              1     Semiurban  \n",
       "341              1         Rural  \n",
       "349              1         Rural  \n",
       "362              1         Urban  \n",
       "366              1         Rural  "
      ]
     },
     "execution_count": 55,
     "metadata": {},
     "output_type": "execute_result"
    }
   ],
   "source": [
    "#df[df['LoanAmount'] < 0]\n",
    "df[df[\"Self_Employed\"] == \"Yes\"]"
   ]
  },
  {
   "cell_type": "code",
   "execution_count": 56,
   "id": "90d849e7",
   "metadata": {},
   "outputs": [],
   "source": [
    "#16. Extract all the Records where Property_area is equal to urban in a DF."
   ]
  },
  {
   "cell_type": "code",
   "execution_count": 57,
   "id": "2ce751ca",
   "metadata": {},
   "outputs": [
    {
     "data": {
      "text/html": [
       "<div>\n",
       "<style scoped>\n",
       "    .dataframe tbody tr th:only-of-type {\n",
       "        vertical-align: middle;\n",
       "    }\n",
       "\n",
       "    .dataframe tbody tr th {\n",
       "        vertical-align: top;\n",
       "    }\n",
       "\n",
       "    .dataframe thead th {\n",
       "        text-align: right;\n",
       "    }\n",
       "</style>\n",
       "<table border=\"1\" class=\"dataframe\">\n",
       "  <thead>\n",
       "    <tr style=\"text-align: right;\">\n",
       "      <th></th>\n",
       "      <th>Loan_ID</th>\n",
       "      <th>Gender</th>\n",
       "      <th>Married</th>\n",
       "      <th>Dependents</th>\n",
       "      <th>Education</th>\n",
       "      <th>Self_Employed</th>\n",
       "      <th>Applicant_Income</th>\n",
       "      <th>Coapplicant_Income</th>\n",
       "      <th>LoanAmount</th>\n",
       "      <th>Loan_Amount_Term</th>\n",
       "      <th>Credit_History</th>\n",
       "      <th>Property_Area</th>\n",
       "    </tr>\n",
       "  </thead>\n",
       "  <tbody>\n",
       "    <tr>\n",
       "      <th>0</th>\n",
       "      <td>LP001015</td>\n",
       "      <td>Male</td>\n",
       "      <td>Yes</td>\n",
       "      <td>0</td>\n",
       "      <td>Graduate</td>\n",
       "      <td>No</td>\n",
       "      <td>5720</td>\n",
       "      <td>0</td>\n",
       "      <td>110.0</td>\n",
       "      <td>360</td>\n",
       "      <td>1</td>\n",
       "      <td>Urban</td>\n",
       "    </tr>\n",
       "    <tr>\n",
       "      <th>1</th>\n",
       "      <td>LP001022</td>\n",
       "      <td>Male</td>\n",
       "      <td>Yes</td>\n",
       "      <td>1</td>\n",
       "      <td>Graduate</td>\n",
       "      <td>No</td>\n",
       "      <td>3076</td>\n",
       "      <td>1500</td>\n",
       "      <td>126.0</td>\n",
       "      <td>360</td>\n",
       "      <td>1</td>\n",
       "      <td>Urban</td>\n",
       "    </tr>\n",
       "    <tr>\n",
       "      <th>2</th>\n",
       "      <td>LP001031</td>\n",
       "      <td>Male</td>\n",
       "      <td>Yes</td>\n",
       "      <td>2</td>\n",
       "      <td>Graduate</td>\n",
       "      <td>No</td>\n",
       "      <td>5000</td>\n",
       "      <td>1800</td>\n",
       "      <td>208.0</td>\n",
       "      <td>360</td>\n",
       "      <td>1</td>\n",
       "      <td>Urban</td>\n",
       "    </tr>\n",
       "    <tr>\n",
       "      <th>3</th>\n",
       "      <td>LP001035</td>\n",
       "      <td>Male</td>\n",
       "      <td></td>\n",
       "      <td>2</td>\n",
       "      <td>Graduate</td>\n",
       "      <td>No</td>\n",
       "      <td>2340</td>\n",
       "      <td>2546</td>\n",
       "      <td>100.0</td>\n",
       "      <td>360</td>\n",
       "      <td>1</td>\n",
       "      <td>Urban</td>\n",
       "    </tr>\n",
       "    <tr>\n",
       "      <th>4</th>\n",
       "      <td>LP001051</td>\n",
       "      <td>Male</td>\n",
       "      <td>No</td>\n",
       "      <td>0</td>\n",
       "      <td>Not Graduate</td>\n",
       "      <td>No</td>\n",
       "      <td>3276</td>\n",
       "      <td>0</td>\n",
       "      <td>78.0</td>\n",
       "      <td>360</td>\n",
       "      <td>1</td>\n",
       "      <td>Urban</td>\n",
       "    </tr>\n",
       "    <tr>\n",
       "      <th>...</th>\n",
       "      <td>...</td>\n",
       "      <td>...</td>\n",
       "      <td>...</td>\n",
       "      <td>...</td>\n",
       "      <td>...</td>\n",
       "      <td>...</td>\n",
       "      <td>...</td>\n",
       "      <td>...</td>\n",
       "      <td>...</td>\n",
       "      <td>...</td>\n",
       "      <td>...</td>\n",
       "      <td>...</td>\n",
       "    </tr>\n",
       "    <tr>\n",
       "      <th>356</th>\n",
       "      <td>LP002935</td>\n",
       "      <td>Male</td>\n",
       "      <td>Yes</td>\n",
       "      <td>1</td>\n",
       "      <td>Graduate</td>\n",
       "      <td>No</td>\n",
       "      <td>3791</td>\n",
       "      <td>1936</td>\n",
       "      <td>85.0</td>\n",
       "      <td>360</td>\n",
       "      <td>1</td>\n",
       "      <td>Urban</td>\n",
       "    </tr>\n",
       "    <tr>\n",
       "      <th>357</th>\n",
       "      <td>LP002952</td>\n",
       "      <td>Male</td>\n",
       "      <td>No</td>\n",
       "      <td>0</td>\n",
       "      <td>Graduate</td>\n",
       "      <td>No</td>\n",
       "      <td>2500</td>\n",
       "      <td>0</td>\n",
       "      <td>60.0</td>\n",
       "      <td>360</td>\n",
       "      <td>1</td>\n",
       "      <td>Urban</td>\n",
       "    </tr>\n",
       "    <tr>\n",
       "      <th>360</th>\n",
       "      <td>LP002965</td>\n",
       "      <td>Female</td>\n",
       "      <td>Yes</td>\n",
       "      <td>0</td>\n",
       "      <td>Graduate</td>\n",
       "      <td>No</td>\n",
       "      <td>8550</td>\n",
       "      <td>4255</td>\n",
       "      <td>96.0</td>\n",
       "      <td>360</td>\n",
       "      <td>1</td>\n",
       "      <td>Urban</td>\n",
       "    </tr>\n",
       "    <tr>\n",
       "      <th>362</th>\n",
       "      <td>LP002971</td>\n",
       "      <td>Male</td>\n",
       "      <td>Yes</td>\n",
       "      <td>3+</td>\n",
       "      <td>Not Graduate</td>\n",
       "      <td>Yes</td>\n",
       "      <td>4009</td>\n",
       "      <td>1777</td>\n",
       "      <td>113.0</td>\n",
       "      <td>360</td>\n",
       "      <td>1</td>\n",
       "      <td>Urban</td>\n",
       "    </tr>\n",
       "    <tr>\n",
       "      <th>363</th>\n",
       "      <td>LP002975</td>\n",
       "      <td>Male</td>\n",
       "      <td>Yes</td>\n",
       "      <td>0</td>\n",
       "      <td>Graduate</td>\n",
       "      <td>No</td>\n",
       "      <td>4158</td>\n",
       "      <td>709</td>\n",
       "      <td>115.0</td>\n",
       "      <td>360</td>\n",
       "      <td>1</td>\n",
       "      <td>Urban</td>\n",
       "    </tr>\n",
       "  </tbody>\n",
       "</table>\n",
       "<p>140 rows × 12 columns</p>\n",
       "</div>"
      ],
      "text/plain": [
       "      Loan_ID  Gender Married Dependents     Education Self_Employed  \\\n",
       "0    LP001015    Male     Yes          0      Graduate            No   \n",
       "1    LP001022    Male     Yes          1      Graduate            No   \n",
       "2    LP001031    Male     Yes          2      Graduate            No   \n",
       "3    LP001035    Male                  2      Graduate            No   \n",
       "4    LP001051    Male      No          0  Not Graduate            No   \n",
       "..        ...     ...     ...        ...           ...           ...   \n",
       "356  LP002935    Male     Yes          1      Graduate            No   \n",
       "357  LP002952    Male      No          0      Graduate            No   \n",
       "360  LP002965  Female     Yes          0      Graduate            No   \n",
       "362  LP002971    Male     Yes         3+  Not Graduate           Yes   \n",
       "363  LP002975    Male     Yes          0      Graduate            No   \n",
       "\n",
       "    Applicant_Income  Coapplicant_Income  LoanAmount  Loan_Amount_Term  \\\n",
       "0               5720                   0       110.0               360   \n",
       "1               3076                1500       126.0               360   \n",
       "2               5000                1800       208.0               360   \n",
       "3               2340                2546       100.0               360   \n",
       "4               3276                   0        78.0               360   \n",
       "..               ...                 ...         ...               ...   \n",
       "356             3791                1936        85.0               360   \n",
       "357             2500                   0        60.0               360   \n",
       "360             8550                4255        96.0               360   \n",
       "362             4009                1777       113.0               360   \n",
       "363             4158                 709       115.0               360   \n",
       "\n",
       "    Credit_History Property_Area  \n",
       "0                1         Urban  \n",
       "1                1         Urban  \n",
       "2                1         Urban  \n",
       "3                1         Urban  \n",
       "4                1         Urban  \n",
       "..             ...           ...  \n",
       "356              1         Urban  \n",
       "357              1         Urban  \n",
       "360              1         Urban  \n",
       "362              1         Urban  \n",
       "363              1         Urban  \n",
       "\n",
       "[140 rows x 12 columns]"
      ]
     },
     "execution_count": 57,
     "metadata": {},
     "output_type": "execute_result"
    }
   ],
   "source": [
    "df[df[\"Property_Area\"]==\"Urban\"]"
   ]
  },
  {
   "cell_type": "code",
   "execution_count": 58,
   "id": "9a341e9c",
   "metadata": {},
   "outputs": [],
   "source": [
    "#17. Print number of unique vaues in Gender column"
   ]
  },
  {
   "cell_type": "code",
   "execution_count": 59,
   "id": "b252ffbd",
   "metadata": {},
   "outputs": [
    {
     "data": {
      "text/plain": [
       "array(['Male', 'Female'], dtype=object)"
      ]
     },
     "execution_count": 59,
     "metadata": {},
     "output_type": "execute_result"
    }
   ],
   "source": [
    "df[\"Gender\"].unique()"
   ]
  },
  {
   "cell_type": "code",
   "execution_count": 60,
   "id": "ff071f0c",
   "metadata": {},
   "outputs": [],
   "source": [
    "#18. Check outliers in Loan amount and credit history column and replace them with mean."
   ]
  },
  {
   "cell_type": "code",
   "execution_count": 61,
   "id": "94462459",
   "metadata": {},
   "outputs": [
    {
     "data": {
      "text/plain": [
       "<Axes: >"
      ]
     },
     "execution_count": 61,
     "metadata": {},
     "output_type": "execute_result"
    },
    {
     "data": {
      "image/png": "[encoded data removed]",
      "text/plain": [
       "<Figure size 640x480 with 1 Axes>"
      ]
     },
     "metadata": {},
     "output_type": "display_data"
    }
   ],
   "source": [
    "import seaborn as sns\n",
    "sns.boxplot(df[\"LoanAmount\"])"
   ]
  },
  {
   "cell_type": "code",
   "execution_count": 62,
   "id": "c7db76a7",
   "metadata": {},
   "outputs": [],
   "source": [
    "temp_LA=df[\"LoanAmount\"]"
   ]
  },
  {
   "cell_type": "code",
   "execution_count": 63,
   "id": "78c28f02",
   "metadata": {},
   "outputs": [
    {
     "data": {
      "text/plain": [
       "array([  28.        ,   28.        ,   30.        ,   35.        ,\n",
       "         40.        ,   40.        ,   40.        ,   46.        ,\n",
       "         48.        ,   49.        ,   50.        ,   50.        ,\n",
       "         55.        ,   57.        ,   59.        ,   60.        ,\n",
       "         61.        ,   64.        ,   64.        ,   65.        ,\n",
       "         65.        ,   65.        ,   66.        ,   67.        ,\n",
       "         68.        ,   70.        ,   70.        ,   70.        ,\n",
       "         70.        ,   71.        ,   74.        ,   75.        ,\n",
       "         75.        ,   77.        ,   78.        ,   78.        ,\n",
       "         79.        ,   80.        ,   80.        ,   80.        ,\n",
       "         80.        ,   80.        ,   80.        ,   81.        ,\n",
       "         81.        ,   83.        ,   83.        ,   84.        ,\n",
       "         84.        ,   84.        ,   85.        ,   87.        ,\n",
       "         88.        ,   88.        ,   88.        ,   90.        ,\n",
       "         90.        ,   90.        ,   90.        ,   90.        ,\n",
       "         90.        ,   90.        ,   90.        ,   90.        ,\n",
       "         92.        ,   92.        ,   92.        ,   93.        ,\n",
       "         94.        ,   94.        ,   95.        ,   95.        ,\n",
       "         95.        ,   96.        ,   96.        ,   96.        ,\n",
       "         98.        ,   99.        ,   99.        ,   99.        ,\n",
       "        100.        ,  100.        ,  100.        ,  100.        ,\n",
       "        100.        ,  100.        ,  100.        ,  100.        ,\n",
       "        100.        ,  101.        ,  101.        ,  102.        ,\n",
       "        102.        ,  102.        ,  102.        ,  103.        ,\n",
       "        104.        ,  104.        ,  104.        ,  104.        ,\n",
       "        104.        ,  105.        ,  105.        ,  105.        ,\n",
       "        105.        ,  106.        ,  106.        ,  107.        ,\n",
       "        107.        ,  108.        ,  108.        ,  108.        ,\n",
       "        108.        ,  108.        ,  108.        ,  108.        ,\n",
       "        108.        ,  109.        ,  110.        ,  110.        ,\n",
       "        110.        ,  110.        ,  110.        ,  110.        ,\n",
       "        110.        ,  110.        ,  110.        ,  110.        ,\n",
       "        112.        ,  113.        ,  113.        ,  113.        ,\n",
       "        114.        ,  114.        ,  115.        ,  115.        ,\n",
       "        116.        ,  116.        ,  116.        ,  116.        ,\n",
       "        117.        ,  117.        ,  117.        ,  118.        ,\n",
       "        118.        ,  119.        ,  119.        ,  120.        ,\n",
       "        120.        ,  120.        ,  120.        ,  120.        ,\n",
       "        120.        ,  120.        ,  120.        ,  120.        ,\n",
       "        121.        ,  122.        ,  122.        ,  122.        ,\n",
       "        122.        ,  122.        ,  123.        ,  123.        ,\n",
       "        123.        ,  123.        ,  124.        ,  124.        ,\n",
       "        124.        ,  125.        ,  125.        ,  125.        ,\n",
       "        125.        ,  125.        ,  125.        ,  125.        ,\n",
       "        125.        ,  125.        ,  125.        ,  125.        ,\n",
       "        125.        ,  125.        ,  125.        ,  125.        ,\n",
       "        125.        ,  126.        ,  126.        ,  126.        ,\n",
       "        126.        ,  128.        ,  128.        ,  128.        ,\n",
       "        130.        ,  130.        ,  130.        ,  130.        ,\n",
       "        130.        ,  130.        ,  130.        ,  130.        ,\n",
       "        131.        ,  131.        ,  131.        ,  131.        ,\n",
       "        131.        ,  132.        ,  132.        ,  132.        ,\n",
       "        133.        ,  133.        ,  134.        ,  134.        ,\n",
       "        135.        ,  135.        ,  135.        ,  135.        ,\n",
       "        135.        ,  135.        ,  135.        ,  137.        ,\n",
       "        138.        ,  138.        ,  138.        ,  138.        ,\n",
       "        139.        ,  139.        ,  139.        ,  140.        ,\n",
       "        140.        ,  140.        ,  140.        ,  141.        ,\n",
       "        142.        ,  143.        ,  143.        ,  143.        ,\n",
       "        143.        ,  144.        ,  144.        ,  145.        ,\n",
       "        145.        ,  146.        ,  146.        ,  147.        ,\n",
       "        147.        ,  147.        ,  148.        ,  148.        ,\n",
       "        148.        ,  149.        ,  149.        ,  149.        ,\n",
       "        150.        ,  150.        ,  150.        ,  150.        ,\n",
       "        150.        ,  150.        ,  150.        ,  150.        ,\n",
       "        150.        ,  150.        ,  150.        ,  150.        ,\n",
       "        151.        ,  152.        ,  152.        ,  152.        ,\n",
       "        152.        ,  153.        ,  155.        ,  157.        ,\n",
       "        158.        ,  158.        ,  158.        ,  159.        ,\n",
       "        160.        ,  160.        ,  160.        ,  160.        ,\n",
       "        160.        ,  162.        ,  162.        ,  162.        ,\n",
       "        162.        ,  162.97534247,  162.97534247,  163.        ,\n",
       "        165.        ,  165.        ,  165.        ,  166.        ,\n",
       "        170.        ,  170.        ,  171.        ,  171.        ,\n",
       "        173.        ,  176.        ,  176.        ,  176.        ,\n",
       "        176.        ,  176.        ,  177.        ,  180.        ,\n",
       "        180.        ,  180.        ,  180.        ,  181.        ,\n",
       "        183.        ,  184.        ,  185.        ,  185.        ,\n",
       "        185.        ,  185.        ,  185.        ,  186.        ,\n",
       "        187.        ,  187.        ,  187.        ,  187.        ,\n",
       "        187.        ,  187.        ,  187.        ,  187.        ,\n",
       "        187.        ,  188.        ,  188.        ,  189.        ,\n",
       "        192.        ,  197.        ,  199.        ,  200.        ,\n",
       "        200.        ,  200.        ,  200.        ,  200.        ,\n",
       "        208.        ,  209.        ,  212.        ,  212.        ,\n",
       "        212.        ,  213.        ,  214.        ,  225.        ,\n",
       "        232.        ,  234.        ,  235.        ,  240.        ,\n",
       "        254.        ,  256.        ,  257.        ,  260.        ,\n",
       "        260.        ,  275.        ,  280.        ,  290.        ,\n",
       "        297.        ,  300.        ,  300.        ,  300.        ,\n",
       "        336.        ,  360.        ,  390.        ,  412.        ,\n",
       "        460.        ,  550.        , 9999.        ])"
      ]
     },
     "execution_count": 63,
     "metadata": {},
     "output_type": "execute_result"
    }
   ],
   "source": [
    "np.sort(temp_LA)"
   ]
  },
  {
   "cell_type": "code",
   "execution_count": 64,
   "id": "07a2e2a9",
   "metadata": {},
   "outputs": [
    {
     "name": "stderr",
     "output_type": "stream",
     "text": [
      "C:\\Users\\023663\\AppData\\Local\\Temp\\ipykernel_2060\\43300389.py:1: DeprecationWarning: the `interpolation=` argument to percentile was renamed to `method=`, which has additional options.\n",
      "Users of the modes 'nearest', 'lower', 'higher', or 'midpoint' are encouraged to review the method they used. (Deprecated NumPy 1.22)\n",
      "  Q1=np.percentile(temp_LA,25,interpolation = \"midpoint\")\n",
      "C:\\Users\\023663\\AppData\\Local\\Temp\\ipykernel_2060\\43300389.py:2: DeprecationWarning: the `interpolation=` argument to percentile was renamed to `method=`, which has additional options.\n",
      "Users of the modes 'nearest', 'lower', 'higher', or 'midpoint' are encouraged to review the method they used. (Deprecated NumPy 1.22)\n",
      "  Q2=np.percentile(temp_LA,50,interpolation = \"midpoint\")\n",
      "C:\\Users\\023663\\AppData\\Local\\Temp\\ipykernel_2060\\43300389.py:3: DeprecationWarning: the `interpolation=` argument to percentile was renamed to `method=`, which has additional options.\n",
      "Users of the modes 'nearest', 'lower', 'higher', or 'midpoint' are encouraged to review the method they used. (Deprecated NumPy 1.22)\n",
      "  Q3=np.percentile(temp_LA,75,interpolation = \"midpoint\")\n"
     ]
    }
   ],
   "source": [
    "Q1=np.percentile(temp_LA,25,interpolation = \"midpoint\")\n",
    "Q2=np.percentile(temp_LA,50,interpolation = \"midpoint\")\n",
    "Q3=np.percentile(temp_LA,75,interpolation = \"midpoint\")\n",
    "IQR = Q3-Q1"
   ]
  },
  {
   "cell_type": "code",
   "execution_count": 65,
   "id": "b45fae25",
   "metadata": {},
   "outputs": [
    {
     "data": {
      "text/plain": [
       "17.25"
      ]
     },
     "execution_count": 65,
     "metadata": {},
     "output_type": "execute_result"
    }
   ],
   "source": [
    "low_lim = Q1-1.5*IQR\n",
    "up_lim = Q3 + 1.5*IQR\n",
    "low_lim"
   ]
  },
  {
   "cell_type": "code",
   "execution_count": 66,
   "id": "f76f5e19",
   "metadata": {},
   "outputs": [
    {
     "data": {
      "text/plain": [
       "243.25"
      ]
     },
     "execution_count": 66,
     "metadata": {},
     "output_type": "execute_result"
    }
   ],
   "source": [
    "up_lim"
   ]
  },
  {
   "cell_type": "code",
   "execution_count": 67,
   "id": "9cdf1679",
   "metadata": {},
   "outputs": [
    {
     "name": "stdout",
     "output_type": "stream",
     "text": [
      "[280.0, 300.0, 290.0, 275.0, 360.0, 257.0, 390.0, 256.0, 300.0, 550.0, 260.0, 336.0, 412.0, 9999.0, 460.0, 297.0, 300.0, 260.0, 254.0]\n"
     ]
    }
   ],
   "source": [
    "outlier= []\n",
    "for i in temp_LA:\n",
    "    if i > up_lim or i<low_lim:\n",
    "        outlier.append(i)\n",
    "print(outlier)"
   ]
  },
  {
   "cell_type": "code",
   "execution_count": 68,
   "id": "98fb59ea",
   "metadata": {},
   "outputs": [],
   "source": [
    "df[\"LoanAmount\"].replace(outlier,df[\"LoanAmount\"].mean(),inplace=True)"
   ]
  },
  {
   "cell_type": "code",
   "execution_count": 69,
   "id": "8e84ee0d",
   "metadata": {},
   "outputs": [
    {
     "data": {
      "text/plain": [
       "<Axes: >"
      ]
     },
     "execution_count": 69,
     "metadata": {},
     "output_type": "execute_result"
    },
    {
     "data": {
      "image/png": "[encoded data removed]",
      "text/plain": [
       "<Figure size 640x480 with 1 Axes>"
      ]
     },
     "metadata": {},
     "output_type": "display_data"
    }
   ],
   "source": [
    "import seaborn as sns\n",
    "sns.boxplot(df[\"LoanAmount\"])"
   ]
  },
  {
   "cell_type": "code",
   "execution_count": 70,
   "id": "5a3274ce",
   "metadata": {},
   "outputs": [
    {
     "data": {
      "text/plain": [
       "array(['1', '55', ' '], dtype=object)"
      ]
     },
     "execution_count": 70,
     "metadata": {},
     "output_type": "execute_result"
    }
   ],
   "source": [
    "df[\"Credit_History\"].unique()"
   ]
  },
  {
   "cell_type": "code",
   "execution_count": 71,
   "id": "185ef75f",
   "metadata": {},
   "outputs": [],
   "source": [
    "df[\"Credit_History\"].replace(\" \",pd.NA,inplace = True)"
   ]
  },
  {
   "cell_type": "code",
   "execution_count": 72,
   "id": "9153be5f",
   "metadata": {},
   "outputs": [
    {
     "data": {
      "text/plain": [
       "Credit_History\n",
       "1     365\n",
       "55      1\n",
       "Name: count, dtype: int64"
      ]
     },
     "execution_count": 72,
     "metadata": {},
     "output_type": "execute_result"
    }
   ],
   "source": [
    "df[\"Credit_History\"].value_counts()"
   ]
  },
  {
   "cell_type": "code",
   "execution_count": 82,
   "id": "1e61a68e",
   "metadata": {},
   "outputs": [],
   "source": [
    "df[\"Credit_History\"].fillna(df[\"Credit_History\"].mode()[0],inplace = True)\n",
    "df[\"Credit_History\"].replace(\"55\",\"1\",inplace = True)"
   ]
  },
  {
   "cell_type": "code",
   "execution_count": 83,
   "id": "47cc7deb",
   "metadata": {},
   "outputs": [
    {
     "data": {
      "text/plain": [
       "Credit_History\n",
       "1    367\n",
       "Name: count, dtype: int64"
      ]
     },
     "execution_count": 83,
     "metadata": {},
     "output_type": "execute_result"
    }
   ],
   "source": [
    "df[\"Credit_History\"].value_counts()"
   ]
  },
  {
   "cell_type": "code",
   "execution_count": 84,
   "id": "64f61f8a",
   "metadata": {},
   "outputs": [
    {
     "data": {
      "text/plain": [
       "<Axes: >"
      ]
     },
     "execution_count": 84,
     "metadata": {},
     "output_type": "execute_result"
    },
    {
     "data": {
      "image/png": "[encoded data removed]",
      "text/plain": [
       "<Figure size 640x480 with 1 Axes>"
      ]
     },
     "metadata": {},
     "output_type": "display_data"
    }
   ],
   "source": [
    "import seaborn as sns\n",
    "sns.boxplot(df[\"Credit_History\"])"
   ]
  },
  {
   "cell_type": "code",
   "execution_count": 85,
   "id": "7629179e",
   "metadata": {},
   "outputs": [
    {
     "data": {
      "text/html": [
       "<div>\n",
       "<style scoped>\n",
       "    .dataframe tbody tr th:only-of-type {\n",
       "        vertical-align: middle;\n",
       "    }\n",
       "\n",
       "    .dataframe tbody tr th {\n",
       "        vertical-align: top;\n",
       "    }\n",
       "\n",
       "    .dataframe thead th {\n",
       "        text-align: right;\n",
       "    }\n",
       "</style>\n",
       "<table border=\"1\" class=\"dataframe\">\n",
       "  <thead>\n",
       "    <tr style=\"text-align: right;\">\n",
       "      <th></th>\n",
       "      <th>Coapplicant_Income</th>\n",
       "      <th>LoanAmount</th>\n",
       "      <th>Loan_Amount_Term</th>\n",
       "    </tr>\n",
       "  </thead>\n",
       "  <tbody>\n",
       "    <tr>\n",
       "      <th>Coapplicant_Income</th>\n",
       "      <td>1.000000</td>\n",
       "      <td>0.143944</td>\n",
       "      <td>-0.008633</td>\n",
       "    </tr>\n",
       "    <tr>\n",
       "      <th>LoanAmount</th>\n",
       "      <td>0.143944</td>\n",
       "      <td>1.000000</td>\n",
       "      <td>0.141159</td>\n",
       "    </tr>\n",
       "    <tr>\n",
       "      <th>Loan_Amount_Term</th>\n",
       "      <td>-0.008633</td>\n",
       "      <td>0.141159</td>\n",
       "      <td>1.000000</td>\n",
       "    </tr>\n",
       "  </tbody>\n",
       "</table>\n",
       "</div>"
      ],
      "text/plain": [
       "                    Coapplicant_Income  LoanAmount  Loan_Amount_Term\n",
       "Coapplicant_Income            1.000000    0.143944         -0.008633\n",
       "LoanAmount                    0.143944    1.000000          0.141159\n",
       "Loan_Amount_Term             -0.008633    0.141159          1.000000"
      ]
     },
     "execution_count": 85,
     "metadata": {},
     "output_type": "execute_result"
    }
   ],
   "source": [
    "df.select_dtypes(include=[np.number]).corr()"
   ]
  },
  {
   "cell_type": "code",
   "execution_count": null,
   "id": "69404442",
   "metadata": {},
   "outputs": [],
   "source": []
  }
 ],
 "metadata": {
  "kernelspec": {
   "display_name": "Python 3 (ipykernel)",
   "language": "python",
   "name": "python3"
  },
  "language_info": {
   "codemirror_mode": {
    "name": "ipython",
    "version": 3
   },
   "file_extension": ".py",
   "mimetype": "text/x-python",
   "name": "python",
   "nbconvert_exporter": "python",
   "pygments_lexer": "ipython3",
   "version": "3.11.5"
  }
 },
 "nbformat": 4,
 "nbformat_minor": 5
}
